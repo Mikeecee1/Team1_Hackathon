{
 "cells": [
  {
   "cell_type": "markdown",
   "metadata": {
    "id": "0aStgWSO0E0E"
   },
   "source": [
    "# **Visualisation**"
   ]
  },
  {
   "cell_type": "markdown",
   "metadata": {
    "id": "1eLEkw5O0ECa"
   },
   "source": [
    "## Objectives\n",
    "\n",
    "* To examine the cleaned dataset for correlations which may support/ disprove our hypotheses\n",
    "* To produce visualisations which explore relationships, particularly those relating to attrition flag and:\n",
    "    * Age\n",
    "    * Education Level\n",
    "    * Income Level\n",
    "    * Gender\n",
    "\n",
    "## Inputs\n",
    "\n",
    "* The cleaned dataset produced in the Transformation stage\n",
    "* Use of y-data and visualisations produced in Extraction and Transformation stages to inform next steps\n",
    "* Any addtional information, from correlations for example, that may help with insights\n",
    "* The project hypotheses as outlined in README file\n",
    "\n",
    "## Outputs\n",
    "\n",
    "* Visualisations using Matplotlib, Seaborn and Plotly which may help explore correlations and relationships\n",
    "\n",
    "## Additional Comments\n",
    "\n",
    "* If you have any additional comments that don't fit in the previous bullets, please state them here. \n",
    "\n"
   ]
  },
  {
   "cell_type": "markdown",
   "metadata": {
    "id": "9uWZXH9LwoQg"
   },
   "source": [
    "---"
   ]
  },
  {
   "cell_type": "markdown",
   "metadata": {
    "id": "cqP-UeN-z3i2"
   },
   "source": [
    "# Change working directory"
   ]
  },
  {
   "cell_type": "markdown",
   "metadata": {},
   "source": [
    "* We are assuming you will store the notebooks in a subfolder, therefore when running the notebook in the editor, you will need to change the working directory"
   ]
  },
  {
   "cell_type": "markdown",
   "metadata": {
    "id": "aOGIGS-uz3i2"
   },
   "source": [
    "We need to change the working directory from its current folder to its parent folder\n",
    "* We access the current directory with os.getcwd()"
   ]
  },
  {
   "cell_type": "code",
   "execution_count": 1,
   "metadata": {
    "id": "wZfF_j-Bz3i4",
    "outputId": "66943449-1436-4c3d-85c7-b85f9f78349b"
   },
   "outputs": [
    {
     "data": {
      "text/plain": [
       "'c:\\\\Users\\\\mikee\\\\Desktop\\\\Hackathon1\\\\Team1_Hackathon\\\\jupyter_notebooks'"
      ]
     },
     "execution_count": 1,
     "metadata": {},
     "output_type": "execute_result"
    }
   ],
   "source": [
    "import os\n",
    "current_dir = os.getcwd()\n",
    "current_dir"
   ]
  },
  {
   "cell_type": "markdown",
   "metadata": {
    "id": "9MWW8E7lz3i7"
   },
   "source": [
    "We want to make the parent of the current directory the new current directory\n",
    "* os.path.dirname() gets the parent directory\n",
    "* os.chir() defines the new current directory"
   ]
  },
  {
   "cell_type": "code",
   "execution_count": 2,
   "metadata": {
    "id": "TwHsQRWjz3i9",
    "outputId": "86849db3-cd2f-4cc5-ebb8-2d0caafa1a2c"
   },
   "outputs": [
    {
     "name": "stdout",
     "output_type": "stream",
     "text": [
      "You set a new current directory\n"
     ]
    }
   ],
   "source": [
    "os.chdir(os.path.dirname(current_dir))\n",
    "print(\"You set a new current directory\")"
   ]
  },
  {
   "cell_type": "markdown",
   "metadata": {
    "id": "M_xPk_Ijz3i-"
   },
   "source": [
    "Confirm the new current directory"
   ]
  },
  {
   "cell_type": "code",
   "execution_count": 3,
   "metadata": {
    "id": "vz3S-_kjz3jA",
    "outputId": "00b79ae4-75d0-4a96-d193-ac9ef9847ea2"
   },
   "outputs": [
    {
     "data": {
      "text/plain": [
       "'c:\\\\Users\\\\mikee\\\\Desktop\\\\Hackathon1\\\\Team1_Hackathon'"
      ]
     },
     "execution_count": 3,
     "metadata": {},
     "output_type": "execute_result"
    }
   ],
   "source": [
    "current_dir = os.getcwd()\n",
    "current_dir"
   ]
  },
  {
   "cell_type": "markdown",
   "metadata": {
    "id": "-mavJ8DibrcQ"
   },
   "source": [
    "# Section 1"
   ]
  },
  {
   "cell_type": "code",
   "execution_count": null,
   "metadata": {},
   "outputs": [],
   "source": []
  },
  {
   "cell_type": "markdown",
   "metadata": {},
   "source": [
    "### Exploratory Visualisations"
   ]
  },
  {
   "cell_type": "code",
   "execution_count": 4,
   "metadata": {},
   "outputs": [],
   "source": [
    "#importing libraries\n",
    "import pandas as pd\n",
    "import numpy as np\n",
    "import matplotlib.pyplot as plt\n",
    "import seaborn as sns\n",
    "import plotly.express as px"
   ]
  },
  {
   "cell_type": "code",
   "execution_count": 5,
   "metadata": {},
   "outputs": [
    {
     "data": {
      "text/html": [
       "<div>\n",
       "<style scoped>\n",
       "    .dataframe tbody tr th:only-of-type {\n",
       "        vertical-align: middle;\n",
       "    }\n",
       "\n",
       "    .dataframe tbody tr th {\n",
       "        vertical-align: top;\n",
       "    }\n",
       "\n",
       "    .dataframe thead th {\n",
       "        text-align: right;\n",
       "    }\n",
       "</style>\n",
       "<table border=\"1\" class=\"dataframe\">\n",
       "  <thead>\n",
       "    <tr style=\"text-align: right;\">\n",
       "      <th></th>\n",
       "      <th>Customer_Age</th>\n",
       "      <th>Gender</th>\n",
       "      <th>Dependent_count</th>\n",
       "      <th>Education_Level</th>\n",
       "      <th>Marital_Status</th>\n",
       "      <th>Income_Category</th>\n",
       "      <th>Card_Category</th>\n",
       "      <th>Months_on_book</th>\n",
       "      <th>Total_Relationship_Count</th>\n",
       "      <th>Months_Inactive_12_mon</th>\n",
       "      <th>...</th>\n",
       "      <th>Total_Revolving_Bal</th>\n",
       "      <th>Avg_Open_To_Buy</th>\n",
       "      <th>Total_Amt_Chng_Q4_Q1</th>\n",
       "      <th>Total_Trans_Amt</th>\n",
       "      <th>Total_Trans_Ct</th>\n",
       "      <th>Total_Ct_Chng_Q4_Q1</th>\n",
       "      <th>Avg_Utilization_Ratio</th>\n",
       "      <th>Age_Group</th>\n",
       "      <th>Attrition_Flag_Original</th>\n",
       "      <th>Attrition_Flag_Existing Customer</th>\n",
       "    </tr>\n",
       "  </thead>\n",
       "  <tbody>\n",
       "    <tr>\n",
       "      <th>0</th>\n",
       "      <td>45</td>\n",
       "      <td>M</td>\n",
       "      <td>3</td>\n",
       "      <td>High School</td>\n",
       "      <td>Married</td>\n",
       "      <td>$60K - $80K</td>\n",
       "      <td>Blue</td>\n",
       "      <td>39</td>\n",
       "      <td>5</td>\n",
       "      <td>1</td>\n",
       "      <td>...</td>\n",
       "      <td>777</td>\n",
       "      <td>11914.0</td>\n",
       "      <td>1.335</td>\n",
       "      <td>1144.0</td>\n",
       "      <td>42</td>\n",
       "      <td>1.625</td>\n",
       "      <td>0.061</td>\n",
       "      <td>Middle-aged</td>\n",
       "      <td>Existing Customer</td>\n",
       "      <td>1</td>\n",
       "    </tr>\n",
       "    <tr>\n",
       "      <th>1</th>\n",
       "      <td>49</td>\n",
       "      <td>F</td>\n",
       "      <td>5</td>\n",
       "      <td>Graduate</td>\n",
       "      <td>Single</td>\n",
       "      <td>Less than $40K</td>\n",
       "      <td>Blue</td>\n",
       "      <td>44</td>\n",
       "      <td>6</td>\n",
       "      <td>1</td>\n",
       "      <td>...</td>\n",
       "      <td>864</td>\n",
       "      <td>7392.0</td>\n",
       "      <td>1.541</td>\n",
       "      <td>1291.0</td>\n",
       "      <td>33</td>\n",
       "      <td>3.714</td>\n",
       "      <td>0.105</td>\n",
       "      <td>Middle-aged</td>\n",
       "      <td>Existing Customer</td>\n",
       "      <td>1</td>\n",
       "    </tr>\n",
       "    <tr>\n",
       "      <th>2</th>\n",
       "      <td>51</td>\n",
       "      <td>M</td>\n",
       "      <td>3</td>\n",
       "      <td>Graduate</td>\n",
       "      <td>Married</td>\n",
       "      <td>$80K - $120K</td>\n",
       "      <td>Blue</td>\n",
       "      <td>36</td>\n",
       "      <td>4</td>\n",
       "      <td>1</td>\n",
       "      <td>...</td>\n",
       "      <td>0</td>\n",
       "      <td>3418.0</td>\n",
       "      <td>2.594</td>\n",
       "      <td>1887.0</td>\n",
       "      <td>20</td>\n",
       "      <td>2.333</td>\n",
       "      <td>0.000</td>\n",
       "      <td>Middle-aged</td>\n",
       "      <td>Existing Customer</td>\n",
       "      <td>1</td>\n",
       "    </tr>\n",
       "    <tr>\n",
       "      <th>3</th>\n",
       "      <td>40</td>\n",
       "      <td>F</td>\n",
       "      <td>4</td>\n",
       "      <td>High School</td>\n",
       "      <td>Unknown</td>\n",
       "      <td>Less than $40K</td>\n",
       "      <td>Blue</td>\n",
       "      <td>34</td>\n",
       "      <td>3</td>\n",
       "      <td>4</td>\n",
       "      <td>...</td>\n",
       "      <td>2517</td>\n",
       "      <td>796.0</td>\n",
       "      <td>1.405</td>\n",
       "      <td>1171.0</td>\n",
       "      <td>20</td>\n",
       "      <td>2.333</td>\n",
       "      <td>0.760</td>\n",
       "      <td>Middle-aged</td>\n",
       "      <td>Existing Customer</td>\n",
       "      <td>1</td>\n",
       "    </tr>\n",
       "    <tr>\n",
       "      <th>4</th>\n",
       "      <td>40</td>\n",
       "      <td>M</td>\n",
       "      <td>3</td>\n",
       "      <td>Uneducated</td>\n",
       "      <td>Married</td>\n",
       "      <td>$60K - $80K</td>\n",
       "      <td>Blue</td>\n",
       "      <td>21</td>\n",
       "      <td>5</td>\n",
       "      <td>1</td>\n",
       "      <td>...</td>\n",
       "      <td>0</td>\n",
       "      <td>4716.0</td>\n",
       "      <td>2.175</td>\n",
       "      <td>816.0</td>\n",
       "      <td>28</td>\n",
       "      <td>2.500</td>\n",
       "      <td>0.000</td>\n",
       "      <td>Middle-aged</td>\n",
       "      <td>Existing Customer</td>\n",
       "      <td>1</td>\n",
       "    </tr>\n",
       "  </tbody>\n",
       "</table>\n",
       "<p>5 rows × 22 columns</p>\n",
       "</div>"
      ],
      "text/plain": [
       "   Customer_Age Gender  Dependent_count Education_Level Marital_Status  \\\n",
       "0            45      M                3     High School        Married   \n",
       "1            49      F                5        Graduate         Single   \n",
       "2            51      M                3        Graduate        Married   \n",
       "3            40      F                4     High School        Unknown   \n",
       "4            40      M                3      Uneducated        Married   \n",
       "\n",
       "  Income_Category Card_Category  Months_on_book  Total_Relationship_Count  \\\n",
       "0     $60K - $80K          Blue              39                         5   \n",
       "1  Less than $40K          Blue              44                         6   \n",
       "2    $80K - $120K          Blue              36                         4   \n",
       "3  Less than $40K          Blue              34                         3   \n",
       "4     $60K - $80K          Blue              21                         5   \n",
       "\n",
       "   Months_Inactive_12_mon  ...  Total_Revolving_Bal  Avg_Open_To_Buy  \\\n",
       "0                       1  ...                  777          11914.0   \n",
       "1                       1  ...                  864           7392.0   \n",
       "2                       1  ...                    0           3418.0   \n",
       "3                       4  ...                 2517            796.0   \n",
       "4                       1  ...                    0           4716.0   \n",
       "\n",
       "   Total_Amt_Chng_Q4_Q1  Total_Trans_Amt  Total_Trans_Ct  Total_Ct_Chng_Q4_Q1  \\\n",
       "0                 1.335           1144.0              42                1.625   \n",
       "1                 1.541           1291.0              33                3.714   \n",
       "2                 2.594           1887.0              20                2.333   \n",
       "3                 1.405           1171.0              20                2.333   \n",
       "4                 2.175            816.0              28                2.500   \n",
       "\n",
       "   Avg_Utilization_Ratio    Age_Group  Attrition_Flag_Original  \\\n",
       "0                  0.061  Middle-aged        Existing Customer   \n",
       "1                  0.105  Middle-aged        Existing Customer   \n",
       "2                  0.000  Middle-aged        Existing Customer   \n",
       "3                  0.760  Middle-aged        Existing Customer   \n",
       "4                  0.000  Middle-aged        Existing Customer   \n",
       "\n",
       "  Attrition_Flag_Existing Customer  \n",
       "0                                1  \n",
       "1                                1  \n",
       "2                                1  \n",
       "3                                1  \n",
       "4                                1  \n",
       "\n",
       "[5 rows x 22 columns]"
      ]
     },
     "execution_count": 5,
     "metadata": {},
     "output_type": "execute_result"
    }
   ],
   "source": [
    "##Import the cleaned dataset\n",
    "df = pd.read_csv('Data/Processed/BankChurners_transformed.csv')  #Change to cleaned dataset when available\n",
    "df.head()"
   ]
  },
  {
   "cell_type": "code",
   "execution_count": 6,
   "metadata": {},
   "outputs": [
    {
     "data": {
      "text/plain": [
       "Income_Category\n",
       "Less than $40K    3561\n",
       "$40K - $60K       1790\n",
       "$80K - $120K      1535\n",
       "$60K - $80K       1402\n",
       "Unknown           1112\n",
       "$120K +            727\n",
       "Name: count, dtype: int64"
      ]
     },
     "execution_count": 6,
     "metadata": {},
     "output_type": "execute_result"
    }
   ],
   "source": [
    "df[\"Income_Category\"].value_counts()"
   ]
  },
  {
   "cell_type": "code",
   "execution_count": 7,
   "metadata": {},
   "outputs": [
    {
     "data": {
      "image/png": "[encoded data removed]",
      "text/plain": [
       "<Figure size 1200x500 with 1 Axes>"
      ]
     },
     "metadata": {},
     "output_type": "display_data"
    }
   ],
   "source": [
    "##Box plots showing the distribution of Age and Education_Levelfor attrited and non-attrited customers\n",
    "# Order education level by typical hierarchy *unknown level not shown*\n",
    "education_order = ['Uneducated', 'High School', 'College', 'Graduate', 'Post-Graduate', 'Doctorate']\n",
    "df['Education_Level'] = pd.Categorical(df['Education_Level'], categories=education_order, ordered=True)\n",
    "\n",
    "plt.figure(figsize=(12, 5))\n",
    "sns.boxplot(x='Education_Level', y='Customer_Age', hue='Attrition_Flag_Original', data=df)\n",
    "plt.title('Age Distribution by Education Level and Attrition Status')\n",
    "plt.xlabel('Education Level')\n",
    "plt.ylabel('Age')\n",
    "plt.tight_layout()\n",
    "plt.show()"
   ]
  },
  {
   "cell_type": "code",
   "execution_count": 8,
   "metadata": {},
   "outputs": [
    {
     "data": {
      "image/png": "[encoded data removed]",
      "text/plain": [
       "<Figure size 1200x500 with 1 Axes>"
      ]
     },
     "metadata": {},
     "output_type": "display_data"
    }
   ],
   "source": [
    "##Box plots showing the distribution of Age and Income_Level for attrited and non-attrited customers\n",
    "# Order income level by typical hierarchy *unknown level not shown*\n",
    "income_order = ['Less than $40K', '$40K - $60K', '$60K - $80K', '$80K - $120K', '$120K +']\n",
    "df['Income_Category'] = pd.Categorical(df['Income_Category'], categories=income_order, ordered=True)\n",
    "\n",
    "plt.figure(figsize=(12, 5))\n",
    "\n",
    "sns.boxplot(x='Income_Category', y='Customer_Age', hue='Attrition_Flag_Original', data=df)\n",
    "plt.title('Age Distribution by Income Level and Attrition Status')\n",
    "plt.xlabel('Income Level')\n",
    "plt.ylabel('Age')\n",
    "\n",
    "\n",
    "plt.tight_layout()\n",
    "plt.show()"
   ]
  },
  {
   "cell_type": "code",
   "execution_count": 9,
   "metadata": {},
   "outputs": [
    {
     "data": {
      "image/png": "[encoded data removed]",
      "text/plain": [
       "<Figure size 1800x500 with 3 Axes>"
      ]
     },
     "metadata": {},
     "output_type": "display_data"
    }
   ],
   "source": [
    "#Histograms showing distribution of Age, Income_Level and Education_Level for attrited and non-attrited customers\n",
    "#show percentage of customers instead of count\n",
    "\n",
    "\n",
    "fig, axes = plt.subplots(1, 3, figsize=(18, 5)) \n",
    "sns.histplot(data=df, x='Customer_Age', hue='Attrition_Flag_Original', multiple='stack', stat='percent', ax=axes[0])\n",
    "axes[0].set_title('Age Distribution by Attrition Status')\n",
    "sns.histplot(data=df, x='Income_Category', hue='Attrition_Flag_Original', multiple='stack', stat='percent', ax=axes[1])\n",
    "axes[1].set_title('Income Level Distribution by Attrition Status')\n",
    "sns.histplot(data=df, x='Education_Level', hue='Attrition_Flag_Original', multiple='stack', stat='percent', ax=axes[2])\n",
    "axes[2].set_title('Education Level Distribution by Attrition Status')\n",
    "plt.tight_layout()\n",
    "plt.show()"
   ]
  },
  {
   "cell_type": "code",
   "execution_count": 11,
   "metadata": {},
   "outputs": [
    {
     "data": {
      "text/html": [
       "<div>\n",
       "<style scoped>\n",
       "    .dataframe tbody tr th:only-of-type {\n",
       "        vertical-align: middle;\n",
       "    }\n",
       "\n",
       "    .dataframe tbody tr th {\n",
       "        vertical-align: top;\n",
       "    }\n",
       "\n",
       "    .dataframe thead th {\n",
       "        text-align: right;\n",
       "    }\n",
       "</style>\n",
       "<table border=\"1\" class=\"dataframe\">\n",
       "  <thead>\n",
       "    <tr style=\"text-align: right;\">\n",
       "      <th></th>\n",
       "      <th>Customer_Age</th>\n",
       "      <th>Gender</th>\n",
       "      <th>Dependent_count</th>\n",
       "      <th>Education_Level</th>\n",
       "      <th>Marital_Status</th>\n",
       "      <th>Income_Category</th>\n",
       "      <th>Card_Category</th>\n",
       "      <th>Months_on_book</th>\n",
       "      <th>Total_Relationship_Count</th>\n",
       "      <th>Months_Inactive_12_mon</th>\n",
       "      <th>...</th>\n",
       "      <th>Total_Revolving_Bal</th>\n",
       "      <th>Avg_Open_To_Buy</th>\n",
       "      <th>Total_Amt_Chng_Q4_Q1</th>\n",
       "      <th>Total_Trans_Amt</th>\n",
       "      <th>Total_Trans_Ct</th>\n",
       "      <th>Total_Ct_Chng_Q4_Q1</th>\n",
       "      <th>Avg_Utilization_Ratio</th>\n",
       "      <th>Age_Group</th>\n",
       "      <th>Attrition_Flag_Original</th>\n",
       "      <th>Attrition_Flag_Existing Customer</th>\n",
       "    </tr>\n",
       "  </thead>\n",
       "  <tbody>\n",
       "    <tr>\n",
       "      <th>0</th>\n",
       "      <td>45</td>\n",
       "      <td>M</td>\n",
       "      <td>3</td>\n",
       "      <td>High School</td>\n",
       "      <td>Married</td>\n",
       "      <td>$60K - $80K</td>\n",
       "      <td>Blue</td>\n",
       "      <td>39</td>\n",
       "      <td>5</td>\n",
       "      <td>1</td>\n",
       "      <td>...</td>\n",
       "      <td>777</td>\n",
       "      <td>11914.0</td>\n",
       "      <td>1.335</td>\n",
       "      <td>1144.0</td>\n",
       "      <td>42</td>\n",
       "      <td>1.625</td>\n",
       "      <td>0.061</td>\n",
       "      <td>45-64</td>\n",
       "      <td>Existing Customer</td>\n",
       "      <td>1</td>\n",
       "    </tr>\n",
       "    <tr>\n",
       "      <th>1</th>\n",
       "      <td>49</td>\n",
       "      <td>F</td>\n",
       "      <td>5</td>\n",
       "      <td>Graduate</td>\n",
       "      <td>Single</td>\n",
       "      <td>Less than $40K</td>\n",
       "      <td>Blue</td>\n",
       "      <td>44</td>\n",
       "      <td>6</td>\n",
       "      <td>1</td>\n",
       "      <td>...</td>\n",
       "      <td>864</td>\n",
       "      <td>7392.0</td>\n",
       "      <td>1.541</td>\n",
       "      <td>1291.0</td>\n",
       "      <td>33</td>\n",
       "      <td>3.714</td>\n",
       "      <td>0.105</td>\n",
       "      <td>45-64</td>\n",
       "      <td>Existing Customer</td>\n",
       "      <td>1</td>\n",
       "    </tr>\n",
       "    <tr>\n",
       "      <th>2</th>\n",
       "      <td>51</td>\n",
       "      <td>M</td>\n",
       "      <td>3</td>\n",
       "      <td>Graduate</td>\n",
       "      <td>Married</td>\n",
       "      <td>$80K - $120K</td>\n",
       "      <td>Blue</td>\n",
       "      <td>36</td>\n",
       "      <td>4</td>\n",
       "      <td>1</td>\n",
       "      <td>...</td>\n",
       "      <td>0</td>\n",
       "      <td>3418.0</td>\n",
       "      <td>2.594</td>\n",
       "      <td>1887.0</td>\n",
       "      <td>20</td>\n",
       "      <td>2.333</td>\n",
       "      <td>0.000</td>\n",
       "      <td>45-64</td>\n",
       "      <td>Existing Customer</td>\n",
       "      <td>1</td>\n",
       "    </tr>\n",
       "    <tr>\n",
       "      <th>3</th>\n",
       "      <td>40</td>\n",
       "      <td>F</td>\n",
       "      <td>4</td>\n",
       "      <td>High School</td>\n",
       "      <td>Unknown</td>\n",
       "      <td>Less than $40K</td>\n",
       "      <td>Blue</td>\n",
       "      <td>34</td>\n",
       "      <td>3</td>\n",
       "      <td>4</td>\n",
       "      <td>...</td>\n",
       "      <td>2517</td>\n",
       "      <td>796.0</td>\n",
       "      <td>1.405</td>\n",
       "      <td>1171.0</td>\n",
       "      <td>20</td>\n",
       "      <td>2.333</td>\n",
       "      <td>0.760</td>\n",
       "      <td>30-44</td>\n",
       "      <td>Existing Customer</td>\n",
       "      <td>1</td>\n",
       "    </tr>\n",
       "    <tr>\n",
       "      <th>4</th>\n",
       "      <td>40</td>\n",
       "      <td>M</td>\n",
       "      <td>3</td>\n",
       "      <td>Uneducated</td>\n",
       "      <td>Married</td>\n",
       "      <td>$60K - $80K</td>\n",
       "      <td>Blue</td>\n",
       "      <td>21</td>\n",
       "      <td>5</td>\n",
       "      <td>1</td>\n",
       "      <td>...</td>\n",
       "      <td>0</td>\n",
       "      <td>4716.0</td>\n",
       "      <td>2.175</td>\n",
       "      <td>816.0</td>\n",
       "      <td>28</td>\n",
       "      <td>2.500</td>\n",
       "      <td>0.000</td>\n",
       "      <td>30-44</td>\n",
       "      <td>Existing Customer</td>\n",
       "      <td>1</td>\n",
       "    </tr>\n",
       "  </tbody>\n",
       "</table>\n",
       "<p>5 rows × 22 columns</p>\n",
       "</div>"
      ],
      "text/plain": [
       "   Customer_Age Gender  Dependent_count Education_Level Marital_Status  \\\n",
       "0            45      M                3     High School        Married   \n",
       "1            49      F                5        Graduate         Single   \n",
       "2            51      M                3        Graduate        Married   \n",
       "3            40      F                4     High School        Unknown   \n",
       "4            40      M                3      Uneducated        Married   \n",
       "\n",
       "  Income_Category Card_Category  Months_on_book  Total_Relationship_Count  \\\n",
       "0     $60K - $80K          Blue              39                         5   \n",
       "1  Less than $40K          Blue              44                         6   \n",
       "2    $80K - $120K          Blue              36                         4   \n",
       "3  Less than $40K          Blue              34                         3   \n",
       "4     $60K - $80K          Blue              21                         5   \n",
       "\n",
       "   Months_Inactive_12_mon  ...  Total_Revolving_Bal  Avg_Open_To_Buy  \\\n",
       "0                       1  ...                  777          11914.0   \n",
       "1                       1  ...                  864           7392.0   \n",
       "2                       1  ...                    0           3418.0   \n",
       "3                       4  ...                 2517            796.0   \n",
       "4                       1  ...                    0           4716.0   \n",
       "\n",
       "   Total_Amt_Chng_Q4_Q1  Total_Trans_Amt  Total_Trans_Ct  Total_Ct_Chng_Q4_Q1  \\\n",
       "0                 1.335           1144.0              42                1.625   \n",
       "1                 1.541           1291.0              33                3.714   \n",
       "2                 2.594           1887.0              20                2.333   \n",
       "3                 1.405           1171.0              20                2.333   \n",
       "4                 2.175            816.0              28                2.500   \n",
       "\n",
       "   Avg_Utilization_Ratio  Age_Group  Attrition_Flag_Original  \\\n",
       "0                  0.061      45-64        Existing Customer   \n",
       "1                  0.105      45-64        Existing Customer   \n",
       "2                  0.000      45-64        Existing Customer   \n",
       "3                  0.760      30-44        Existing Customer   \n",
       "4                  0.000      30-44        Existing Customer   \n",
       "\n",
       "  Attrition_Flag_Existing Customer  \n",
       "0                                1  \n",
       "1                                1  \n",
       "2                                1  \n",
       "3                                1  \n",
       "4                                1  \n",
       "\n",
       "[5 rows x 22 columns]"
      ]
     },
     "execution_count": 11,
     "metadata": {},
     "output_type": "execute_result"
    }
   ],
   "source": [
    "\n",
    "# Create age groups\n",
    "df['Age_Group'] = pd.cut(df['Customer_Age'], bins=[0, 30, 44, 64, 100], labels=['<30', '30-44',  '45-64', '65+'])\n",
    "df.head()\n"
   ]
  },
  {
   "cell_type": "code",
   "execution_count": null,
   "metadata": {},
   "outputs": [
    {
     "name": "stderr",
     "output_type": "stream",
     "text": [
      "C:\\Users\\mikee\\AppData\\Local\\Temp\\ipykernel_24120\\1928731975.py:2: FutureWarning:\n",
      "\n",
      "The default of observed=False is deprecated and will be changed to True in a future version of pandas. Pass observed=False to retain current behavior or observed=True to adopt the future default and silence this warning.\n",
      "\n",
      "c:\\Users\\mikee\\Desktop\\Hackathon1\\Team1_Hackathon\\.venv\\Lib\\site-packages\\plotly\\express\\_core.py:1699: FutureWarning:\n",
      "\n",
      "The default of observed=False is deprecated and will be changed to True in a future version of pandas. Pass observed=False to retain current behavior or observed=True to adopt the future default and silence this warning.\n",
      "\n",
      "c:\\Users\\mikee\\Desktop\\Hackathon1\\Team1_Hackathon\\.venv\\Lib\\site-packages\\plotly\\express\\_core.py:1699: FutureWarning:\n",
      "\n",
      "The default of observed=False is deprecated and will be changed to True in a future version of pandas. Pass observed=False to retain current behavior or observed=True to adopt the future default and silence this warning.\n",
      "\n",
      "c:\\Users\\mikee\\Desktop\\Hackathon1\\Team1_Hackathon\\.venv\\Lib\\site-packages\\plotly\\express\\_core.py:1699: FutureWarning:\n",
      "\n",
      "The default of observed=False is deprecated and will be changed to True in a future version of pandas. Pass observed=False to retain current behavior or observed=True to adopt the future default and silence this warning.\n",
      "\n"
     ]
    },
    {
     "data": {
      "application/vnd.plotly.v1+json": {
       "config": {
        "plotlyServerURL": "https://plot.ly"
       },
       "data": [
        {
         "branchvalues": "total",
         "customdata": [
          [
           0
          ],
          [
           0
          ],
          [
           0
          ],
          [
           0
          ],
          [
           0
          ],
          [
           null
          ],
          [
           0
          ],
          [
           0
          ],
          [
           0
          ],
          [
           0
          ],
          [
           0
          ],
          [
           0
          ],
          [
           0
          ],
          [
           0
          ],
          [
           0
          ],
          [
           0
          ],
          [
           0
          ],
          [
           0
          ],
          [
           0
          ],
          [
           0
          ],
          [
           0
          ],
          [
           0
          ],
          [
           0
          ],
          [
           0
          ],
          [
           0
          ],
          [
           0
          ],
          [
           0
          ],
          [
           0
          ],
          [
           0
          ],
          [
           null
          ],
          [
           0
          ],
          [
           0
          ],
          [
           0
          ],
          [
           0
          ],
          [
           0
          ],
          [
           0
          ],
          [
           0
          ],
          [
           0
          ],
          [
           0
          ],
          [
           0
          ],
          [
           0
          ],
          [
           0
          ],
          [
           0
          ],
          [
           0
          ],
          [
           0
          ],
          [
           0
          ],
          [
           0
          ],
          [
           0
          ],
          [
           0
          ],
          [
           0
          ],
          [
           0
          ],
          [
           0
          ],
          [
           0
          ],
          [
           null
          ],
          [
           0
          ],
          [
           0
          ],
          [
           0
          ],
          [
           0
          ],
          [
           0
          ],
          [
           0
          ],
          [
           0
          ],
          [
           0
          ],
          [
           0
          ],
          [
           0
          ],
          [
           0
          ],
          [
           0
          ],
          [
           null
          ],
          [
           null
          ],
          [
           null
          ],
          [
           null
          ],
          [
           null
          ],
          [
           null
          ],
          [
           null
          ],
          [
           0
          ],
          [
           0
          ],
          [
           0
          ],
          [
           null
          ],
          [
           null
          ],
          [
           0
          ],
          [
           0
          ],
          [
           0
          ],
          [
           0
          ],
          [
           0
          ],
          [
           0
          ],
          [
           0
          ],
          [
           0
          ],
          [
           0
          ],
          [
           0
          ],
          [
           0
          ],
          [
           0
          ],
          [
           null
          ],
          [
           null
          ],
          [
           null
          ],
          [
           null
          ],
          [
           null
          ],
          [
           null
          ],
          [
           null
          ],
          [
           0
          ],
          [
           null
          ],
          [
           0
          ],
          [
           null
          ],
          [
           null
          ],
          [
           0
          ],
          [
           0
          ],
          [
           0
          ],
          [
           0
          ],
          [
           0
          ],
          [
           0
          ],
          [
           0
          ],
          [
           0
          ],
          [
           0
          ],
          [
           0
          ],
          [
           0
          ],
          [
           0
          ],
          [
           null
          ],
          [
           null
          ],
          [
           null
          ],
          [
           null
          ],
          [
           null
          ],
          [
           null
          ],
          [
           null
          ],
          [
           0
          ],
          [
           null
          ],
          [
           0
          ],
          [
           null
          ],
          [
           null
          ],
          [
           0
          ],
          [
           0
          ],
          [
           0
          ],
          [
           0
          ],
          [
           0
          ],
          [
           0
          ],
          [
           0
          ],
          [
           0
          ],
          [
           0
          ],
          [
           0
          ],
          [
           0
          ],
          [
           0
          ],
          [
           null
          ],
          [
           null
          ],
          [
           null
          ],
          [
           null
          ],
          [
           null
          ],
          [
           null
          ],
          [
           null
          ],
          [
           null
          ],
          [
           null
          ],
          [
           null
          ],
          [
           null
          ],
          [
           null
          ]
         ],
         "domain": {
          "x": [
           0,
           1
          ],
          "y": [
           0,
           1
          ]
         },
         "hovertemplate": "labels=%{label}<br>count=%{value}<br>parent=%{parent}<br>id=%{id}<br>Attrition_Rate=%{color:.2f}<extra></extra>",
         "ids": [
          "Uneducated/<30/Less than $40K",
          "High School/<30/Less than $40K",
          "College/<30/Less than $40K",
          "Graduate/<30/Less than $40K",
          "Post-Graduate/<30/Less than $40K",
          "Doctorate/<30/Less than $40K",
          "Uneducated/30-44/Less than $40K",
          "High School/30-44/Less than $40K",
          "College/30-44/Less than $40K",
          "Graduate/30-44/Less than $40K",
          "Post-Graduate/30-44/Less than $40K",
          "Doctorate/30-44/Less than $40K",
          "Uneducated/45-64/Less than $40K",
          "High School/45-64/Less than $40K",
          "College/45-64/Less than $40K",
          "Graduate/45-64/Less than $40K",
          "Post-Graduate/45-64/Less than $40K",
          "Doctorate/45-64/Less than $40K",
          "Uneducated/65+/Less than $40K",
          "High School/65+/Less than $40K",
          "College/65+/Less than $40K",
          "Graduate/65+/Less than $40K",
          "Post-Graduate/65+/Less than $40K",
          "Doctorate/65+/Less than $40K",
          "Uneducated/<30/$40K - $60K",
          "High School/<30/$40K - $60K",
          "College/<30/$40K - $60K",
          "Graduate/<30/$40K - $60K",
          "Post-Graduate/<30/$40K - $60K",
          "Doctorate/<30/$40K - $60K",
          "Uneducated/30-44/$40K - $60K",
          "High School/30-44/$40K - $60K",
          "College/30-44/$40K - $60K",
          "Graduate/30-44/$40K - $60K",
          "Post-Graduate/30-44/$40K - $60K",
          "Doctorate/30-44/$40K - $60K",
          "Uneducated/45-64/$40K - $60K",
          "High School/45-64/$40K - $60K",
          "College/45-64/$40K - $60K",
          "Graduate/45-64/$40K - $60K",
          "Post-Graduate/45-64/$40K - $60K",
          "Doctorate/45-64/$40K - $60K",
          "Uneducated/65+/$40K - $60K",
          "High School/65+/$40K - $60K",
          "College/65+/$40K - $60K",
          "Graduate/65+/$40K - $60K",
          "Post-Graduate/65+/$40K - $60K",
          "Doctorate/65+/$40K - $60K",
          "Uneducated/<30/$60K - $80K",
          "High School/<30/$60K - $80K",
          "College/<30/$60K - $80K",
          "Graduate/<30/$60K - $80K",
          "Post-Graduate/<30/$60K - $80K",
          "Doctorate/<30/$60K - $80K",
          "Uneducated/30-44/$60K - $80K",
          "High School/30-44/$60K - $80K",
          "College/30-44/$60K - $80K",
          "Graduate/30-44/$60K - $80K",
          "Post-Graduate/30-44/$60K - $80K",
          "Doctorate/30-44/$60K - $80K",
          "Uneducated/45-64/$60K - $80K",
          "High School/45-64/$60K - $80K",
          "College/45-64/$60K - $80K",
          "Graduate/45-64/$60K - $80K",
          "Post-Graduate/45-64/$60K - $80K",
          "Doctorate/45-64/$60K - $80K",
          "Uneducated/65+/$60K - $80K",
          "High School/65+/$60K - $80K",
          "College/65+/$60K - $80K",
          "Graduate/65+/$60K - $80K",
          "Post-Graduate/65+/$60K - $80K",
          "Doctorate/65+/$60K - $80K",
          "Uneducated/<30/$80K - $120K",
          "High School/<30/$80K - $120K",
          "College/<30/$80K - $120K",
          "Graduate/<30/$80K - $120K",
          "Post-Graduate/<30/$80K - $120K",
          "Doctorate/<30/$80K - $120K",
          "Uneducated/30-44/$80K - $120K",
          "High School/30-44/$80K - $120K",
          "College/30-44/$80K - $120K",
          "Graduate/30-44/$80K - $120K",
          "Post-Graduate/30-44/$80K - $120K",
          "Doctorate/30-44/$80K - $120K",
          "Uneducated/45-64/$80K - $120K",
          "High School/45-64/$80K - $120K",
          "College/45-64/$80K - $120K",
          "Graduate/45-64/$80K - $120K",
          "Post-Graduate/45-64/$80K - $120K",
          "Doctorate/45-64/$80K - $120K",
          "Uneducated/65+/$80K - $120K",
          "High School/65+/$80K - $120K",
          "College/65+/$80K - $120K",
          "Graduate/65+/$80K - $120K",
          "Post-Graduate/65+/$80K - $120K",
          "Doctorate/65+/$80K - $120K",
          "Uneducated/<30/$120K +",
          "High School/<30/$120K +",
          "College/<30/$120K +",
          "Graduate/<30/$120K +",
          "Post-Graduate/<30/$120K +",
          "Doctorate/<30/$120K +",
          "Uneducated/30-44/$120K +",
          "High School/30-44/$120K +",
          "College/30-44/$120K +",
          "Graduate/30-44/$120K +",
          "Post-Graduate/30-44/$120K +",
          "Doctorate/30-44/$120K +",
          "Uneducated/45-64/$120K +",
          "High School/45-64/$120K +",
          "College/45-64/$120K +",
          "Graduate/45-64/$120K +",
          "Post-Graduate/45-64/$120K +",
          "Doctorate/45-64/$120K +",
          "Uneducated/65+/$120K +",
          "High School/65+/$120K +",
          "College/65+/$120K +",
          "Graduate/65+/$120K +",
          "Post-Graduate/65+/$120K +",
          "Doctorate/65+/$120K +",
          "Uneducated/<30",
          "High School/<30",
          "College/<30",
          "Graduate/<30",
          "Post-Graduate/<30",
          "Doctorate/<30",
          "Uneducated/30-44",
          "High School/30-44",
          "College/30-44",
          "Graduate/30-44",
          "Post-Graduate/30-44",
          "Doctorate/30-44",
          "Uneducated/45-64",
          "High School/45-64",
          "College/45-64",
          "Graduate/45-64",
          "Post-Graduate/45-64",
          "Doctorate/45-64",
          "Uneducated/65+",
          "High School/65+",
          "College/65+",
          "Graduate/65+",
          "Post-Graduate/65+",
          "Doctorate/65+",
          "Uneducated",
          "High School",
          "College",
          "Graduate",
          "Post-Graduate",
          "Doctorate"
         ],
         "labels": [
          "Less than $40K",
          "Less than $40K",
          "Less than $40K",
          "Less than $40K",
          "Less than $40K",
          "Less than $40K",
          "Less than $40K",
          "Less than $40K",
          "Less than $40K",
          "Less than $40K",
          "Less than $40K",
          "Less than $40K",
          "Less than $40K",
          "Less than $40K",
          "Less than $40K",
          "Less than $40K",
          "Less than $40K",
          "Less than $40K",
          "Less than $40K",
          "Less than $40K",
          "Less than $40K",
          "Less than $40K",
          "Less than $40K",
          "Less than $40K",
          "$40K - $60K",
          "$40K - $60K",
          "$40K - $60K",
          "$40K - $60K",
          "$40K - $60K",
          "$40K - $60K",
          "$40K - $60K",
          "$40K - $60K",
          "$40K - $60K",
          "$40K - $60K",
          "$40K - $60K",
          "$40K - $60K",
          "$40K - $60K",
          "$40K - $60K",
          "$40K - $60K",
          "$40K - $60K",
          "$40K - $60K",
          "$40K - $60K",
          "$40K - $60K",
          "$40K - $60K",
          "$40K - $60K",
          "$40K - $60K",
          "$40K - $60K",
          "$40K - $60K",
          "$60K - $80K",
          "$60K - $80K",
          "$60K - $80K",
          "$60K - $80K",
          "$60K - $80K",
          "$60K - $80K",
          "$60K - $80K",
          "$60K - $80K",
          "$60K - $80K",
          "$60K - $80K",
          "$60K - $80K",
          "$60K - $80K",
          "$60K - $80K",
          "$60K - $80K",
          "$60K - $80K",
          "$60K - $80K",
          "$60K - $80K",
          "$60K - $80K",
          "$60K - $80K",
          "$60K - $80K",
          "$60K - $80K",
          "$60K - $80K",
          "$60K - $80K",
          "$60K - $80K",
          "$80K - $120K",
          "$80K - $120K",
          "$80K - $120K",
          "$80K - $120K",
          "$80K - $120K",
          "$80K - $120K",
          "$80K - $120K",
          "$80K - $120K",
          "$80K - $120K",
          "$80K - $120K",
          "$80K - $120K",
          "$80K - $120K",
          "$80K - $120K",
          "$80K - $120K",
          "$80K - $120K",
          "$80K - $120K",
          "$80K - $120K",
          "$80K - $120K",
          "$80K - $120K",
          "$80K - $120K",
          "$80K - $120K",
          "$80K - $120K",
          "$80K - $120K",
          "$80K - $120K",
          "$120K +",
          "$120K +",
          "$120K +",
          "$120K +",
          "$120K +",
          "$120K +",
          "$120K +",
          "$120K +",
          "$120K +",
          "$120K +",
          "$120K +",
          "$120K +",
          "$120K +",
          "$120K +",
          "$120K +",
          "$120K +",
          "$120K +",
          "$120K +",
          "$120K +",
          "$120K +",
          "$120K +",
          "$120K +",
          "$120K +",
          "$120K +",
          "<30",
          "<30",
          "<30",
          "<30",
          "<30",
          "<30",
          "30-44",
          "30-44",
          "30-44",
          "30-44",
          "30-44",
          "30-44",
          "45-64",
          "45-64",
          "45-64",
          "45-64",
          "45-64",
          "45-64",
          "65+",
          "65+",
          "65+",
          "65+",
          "65+",
          "65+",
          "Uneducated",
          "High School",
          "College",
          "Graduate",
          "Post-Graduate",
          "Doctorate"
         ],
         "marker": {
          "coloraxis": "coloraxis",
          "colors": [
           0,
           0,
           0,
           0,
           0,
           null,
           0,
           0,
           0,
           0,
           0,
           0,
           0,
           0,
           0,
           0,
           0,
           0,
           0,
           0,
           0,
           0,
           0,
           0,
           0,
           0,
           0,
           0,
           0,
           null,
           0,
           0,
           0,
           0,
           0,
           0,
           0,
           0,
           0,
           0,
           0,
           0,
           0,
           0,
           0,
           0,
           0,
           0,
           0,
           0,
           0,
           0,
           0,
           null,
           0,
           0,
           0,
           0,
           0,
           0,
           0,
           0,
           0,
           0,
           0,
           0,
           null,
           null,
           null,
           null,
           null,
           null,
           null,
           0,
           0,
           0,
           null,
           null,
           0,
           0,
           0,
           0,
           0,
           0,
           0,
           0,
           0,
           0,
           0,
           0,
           null,
           null,
           null,
           null,
           null,
           null,
           null,
           0,
           null,
           0,
           null,
           null,
           0,
           0,
           0,
           0,
           0,
           0,
           0,
           0,
           0,
           0,
           0,
           0,
           null,
           null,
           null,
           null,
           null,
           null,
           null,
           0,
           null,
           0,
           null,
           null,
           0,
           0,
           0,
           0,
           0,
           0,
           0,
           0,
           0,
           0,
           0,
           0,
           null,
           null,
           null,
           null,
           null,
           null,
           null,
           null,
           null,
           null,
           null,
           null
          ]
         },
         "name": "",
         "parents": [
          "Uneducated/<30",
          "High School/<30",
          "College/<30",
          "Graduate/<30",
          "Post-Graduate/<30",
          "Doctorate/<30",
          "Uneducated/30-44",
          "High School/30-44",
          "College/30-44",
          "Graduate/30-44",
          "Post-Graduate/30-44",
          "Doctorate/30-44",
          "Uneducated/45-64",
          "High School/45-64",
          "College/45-64",
          "Graduate/45-64",
          "Post-Graduate/45-64",
          "Doctorate/45-64",
          "Uneducated/65+",
          "High School/65+",
          "College/65+",
          "Graduate/65+",
          "Post-Graduate/65+",
          "Doctorate/65+",
          "Uneducated/<30",
          "High School/<30",
          "College/<30",
          "Graduate/<30",
          "Post-Graduate/<30",
          "Doctorate/<30",
          "Uneducated/30-44",
          "High School/30-44",
          "College/30-44",
          "Graduate/30-44",
          "Post-Graduate/30-44",
          "Doctorate/30-44",
          "Uneducated/45-64",
          "High School/45-64",
          "College/45-64",
          "Graduate/45-64",
          "Post-Graduate/45-64",
          "Doctorate/45-64",
          "Uneducated/65+",
          "High School/65+",
          "College/65+",
          "Graduate/65+",
          "Post-Graduate/65+",
          "Doctorate/65+",
          "Uneducated/<30",
          "High School/<30",
          "College/<30",
          "Graduate/<30",
          "Post-Graduate/<30",
          "Doctorate/<30",
          "Uneducated/30-44",
          "High School/30-44",
          "College/30-44",
          "Graduate/30-44",
          "Post-Graduate/30-44",
          "Doctorate/30-44",
          "Uneducated/45-64",
          "High School/45-64",
          "College/45-64",
          "Graduate/45-64",
          "Post-Graduate/45-64",
          "Doctorate/45-64",
          "Uneducated/65+",
          "High School/65+",
          "College/65+",
          "Graduate/65+",
          "Post-Graduate/65+",
          "Doctorate/65+",
          "Uneducated/<30",
          "High School/<30",
          "College/<30",
          "Graduate/<30",
          "Post-Graduate/<30",
          "Doctorate/<30",
          "Uneducated/30-44",
          "High School/30-44",
          "College/30-44",
          "Graduate/30-44",
          "Post-Graduate/30-44",
          "Doctorate/30-44",
          "Uneducated/45-64",
          "High School/45-64",
          "College/45-64",
          "Graduate/45-64",
          "Post-Graduate/45-64",
          "Doctorate/45-64",
          "Uneducated/65+",
          "High School/65+",
          "College/65+",
          "Graduate/65+",
          "Post-Graduate/65+",
          "Doctorate/65+",
          "Uneducated/<30",
          "High School/<30",
          "College/<30",
          "Graduate/<30",
          "Post-Graduate/<30",
          "Doctorate/<30",
          "Uneducated/30-44",
          "High School/30-44",
          "College/30-44",
          "Graduate/30-44",
          "Post-Graduate/30-44",
          "Doctorate/30-44",
          "Uneducated/45-64",
          "High School/45-64",
          "College/45-64",
          "Graduate/45-64",
          "Post-Graduate/45-64",
          "Doctorate/45-64",
          "Uneducated/65+",
          "High School/65+",
          "College/65+",
          "Graduate/65+",
          "Post-Graduate/65+",
          "Doctorate/65+",
          "Uneducated",
          "High School",
          "College",
          "Graduate",
          "Post-Graduate",
          "Doctorate",
          "Uneducated",
          "High School",
          "College",
          "Graduate",
          "Post-Graduate",
          "Doctorate",
          "Uneducated",
          "High School",
          "College",
          "Graduate",
          "Post-Graduate",
          "Doctorate",
          "Uneducated",
          "High School",
          "College",
          "Graduate",
          "Post-Graduate",
          "Doctorate",
          "",
          "",
          "",
          "",
          "",
          ""
         ],
         "textinfo": "label+percent entry",
         "type": "sunburst",
         "values": [
          1,
          1,
          1,
          1,
          1,
          1,
          1,
          1,
          1,
          1,
          1,
          1,
          1,
          1,
          1,
          1,
          1,
          1,
          1,
          1,
          1,
          1,
          1,
          1,
          1,
          1,
          1,
          1,
          1,
          1,
          1,
          1,
          1,
          1,
          1,
          1,
          1,
          1,
          1,
          1,
          1,
          1,
          1,
          1,
          1,
          1,
          1,
          1,
          1,
          1,
          1,
          1,
          1,
          1,
          1,
          1,
          1,
          1,
          1,
          1,
          1,
          1,
          1,
          1,
          1,
          1,
          1,
          1,
          1,
          1,
          1,
          1,
          1,
          1,
          1,
          1,
          1,
          1,
          1,
          1,
          1,
          1,
          1,
          1,
          1,
          1,
          1,
          1,
          1,
          1,
          1,
          1,
          1,
          1,
          1,
          1,
          1,
          1,
          1,
          1,
          1,
          1,
          1,
          1,
          1,
          1,
          1,
          1,
          1,
          1,
          1,
          1,
          1,
          1,
          1,
          1,
          1,
          1,
          1,
          1,
          5,
          5,
          5,
          5,
          5,
          5,
          5,
          5,
          5,
          5,
          5,
          5,
          5,
          5,
          5,
          5,
          5,
          5,
          5,
          5,
          5,
          5,
          5,
          5,
          20,
          20,
          20,
          20,
          20,
          20
         ]
        }
       ],
       "layout": {
        "coloraxis": {
         "colorbar": {
          "title": {
           "text": "Attrition_Rate"
          }
         },
         "colorscale": [
          [
           0,
           "#0d0887"
          ],
          [
           0.1111111111111111,
           "#46039f"
          ],
          [
           0.2222222222222222,
           "#7201a8"
          ],
          [
           0.3333333333333333,
           "#9c179e"
          ],
          [
           0.4444444444444444,
           "#bd3786"
          ],
          [
           0.5555555555555556,
           "#d8576b"
          ],
          [
           0.6666666666666666,
           "#ed7953"
          ],
          [
           0.7777777777777778,
           "#fb9f3a"
          ],
          [
           0.8888888888888888,
           "#fdca26"
          ],
          [
           1,
           "#f0f921"
          ]
         ]
        },
        "legend": {
         "tracegroupgap": 0
        },
        "template": {
         "data": {
          "bar": [
           {
            "error_x": {
             "color": "#2a3f5f"
            },
            "error_y": {
             "color": "#2a3f5f"
            },
            "marker": {
             "line": {
              "color": "#E5ECF6",
              "width": 0.5
             },
             "pattern": {
              "fillmode": "overlay",
              "size": 10,
              "solidity": 0.2
             }
            },
            "type": "bar"
           }
          ],
          "barpolar": [
           {
            "marker": {
             "line": {
              "color": "#E5ECF6",
              "width": 0.5
             },
             "pattern": {
              "fillmode": "overlay",
              "size": 10,
              "solidity": 0.2
             }
            },
            "type": "barpolar"
           }
          ],
          "carpet": [
           {
            "aaxis": {
             "endlinecolor": "#2a3f5f",
             "gridcolor": "white",
             "linecolor": "white",
             "minorgridcolor": "white",
             "startlinecolor": "#2a3f5f"
            },
            "baxis": {
             "endlinecolor": "#2a3f5f",
             "gridcolor": "white",
             "linecolor": "white",
             "minorgridcolor": "white",
             "startlinecolor": "#2a3f5f"
            },
            "type": "carpet"
           }
          ],
          "choropleth": [
           {
            "colorbar": {
             "outlinewidth": 0,
             "ticks": ""
            },
            "type": "choropleth"
           }
          ],
          "contour": [
           {
            "colorbar": {
             "outlinewidth": 0,
             "ticks": ""
            },
            "colorscale": [
             [
              0,
              "#0d0887"
             ],
             [
              0.1111111111111111,
              "#46039f"
             ],
             [
              0.2222222222222222,
              "#7201a8"
             ],
             [
              0.3333333333333333,
              "#9c179e"
             ],
             [
              0.4444444444444444,
              "#bd3786"
             ],
             [
              0.5555555555555556,
              "#d8576b"
             ],
             [
              0.6666666666666666,
              "#ed7953"
             ],
             [
              0.7777777777777778,
              "#fb9f3a"
             ],
             [
              0.8888888888888888,
              "#fdca26"
             ],
             [
              1,
              "#f0f921"
             ]
            ],
            "type": "contour"
           }
          ],
          "contourcarpet": [
           {
            "colorbar": {
             "outlinewidth": 0,
             "ticks": ""
            },
            "type": "contourcarpet"
           }
          ],
          "heatmap": [
           {
            "colorbar": {
             "outlinewidth": 0,
             "ticks": ""
            },
            "colorscale": [
             [
              0,
              "#0d0887"
             ],
             [
              0.1111111111111111,
              "#46039f"
             ],
             [
              0.2222222222222222,
              "#7201a8"
             ],
             [
              0.3333333333333333,
              "#9c179e"
             ],
             [
              0.4444444444444444,
              "#bd3786"
             ],
             [
              0.5555555555555556,
              "#d8576b"
             ],
             [
              0.6666666666666666,
              "#ed7953"
             ],
             [
              0.7777777777777778,
              "#fb9f3a"
             ],
             [
              0.8888888888888888,
              "#fdca26"
             ],
             [
              1,
              "#f0f921"
             ]
            ],
            "type": "heatmap"
           }
          ],
          "heatmapgl": [
           {
            "colorbar": {
             "outlinewidth": 0,
             "ticks": ""
            },
            "colorscale": [
             [
              0,
              "#0d0887"
             ],
             [
              0.1111111111111111,
              "#46039f"
             ],
             [
              0.2222222222222222,
              "#7201a8"
             ],
             [
              0.3333333333333333,
              "#9c179e"
             ],
             [
              0.4444444444444444,
              "#bd3786"
             ],
             [
              0.5555555555555556,
              "#d8576b"
             ],
             [
              0.6666666666666666,
              "#ed7953"
             ],
             [
              0.7777777777777778,
              "#fb9f3a"
             ],
             [
              0.8888888888888888,
              "#fdca26"
             ],
             [
              1,
              "#f0f921"
             ]
            ],
            "type": "heatmapgl"
           }
          ],
          "histogram": [
           {
            "marker": {
             "pattern": {
              "fillmode": "overlay",
              "size": 10,
              "solidity": 0.2
             }
            },
            "type": "histogram"
           }
          ],
          "histogram2d": [
           {
            "colorbar": {
             "outlinewidth": 0,
             "ticks": ""
            },
            "colorscale": [
             [
              0,
              "#0d0887"
             ],
             [
              0.1111111111111111,
              "#46039f"
             ],
             [
              0.2222222222222222,
              "#7201a8"
             ],
             [
              0.3333333333333333,
              "#9c179e"
             ],
             [
              0.4444444444444444,
              "#bd3786"
             ],
             [
              0.5555555555555556,
              "#d8576b"
             ],
             [
              0.6666666666666666,
              "#ed7953"
             ],
             [
              0.7777777777777778,
              "#fb9f3a"
             ],
             [
              0.8888888888888888,
              "#fdca26"
             ],
             [
              1,
              "#f0f921"
             ]
            ],
            "type": "histogram2d"
           }
          ],
          "histogram2dcontour": [
           {
            "colorbar": {
             "outlinewidth": 0,
             "ticks": ""
            },
            "colorscale": [
             [
              0,
              "#0d0887"
             ],
             [
              0.1111111111111111,
              "#46039f"
             ],
             [
              0.2222222222222222,
              "#7201a8"
             ],
             [
              0.3333333333333333,
              "#9c179e"
             ],
             [
              0.4444444444444444,
              "#bd3786"
             ],
             [
              0.5555555555555556,
              "#d8576b"
             ],
             [
              0.6666666666666666,
              "#ed7953"
             ],
             [
              0.7777777777777778,
              "#fb9f3a"
             ],
             [
              0.8888888888888888,
              "#fdca26"
             ],
             [
              1,
              "#f0f921"
             ]
            ],
            "type": "histogram2dcontour"
           }
          ],
          "mesh3d": [
           {
            "colorbar": {
             "outlinewidth": 0,
             "ticks": ""
            },
            "type": "mesh3d"
           }
          ],
          "parcoords": [
           {
            "line": {
             "colorbar": {
              "outlinewidth": 0,
              "ticks": ""
             }
            },
            "type": "parcoords"
           }
          ],
          "pie": [
           {
            "automargin": true,
            "type": "pie"
           }
          ],
          "scatter": [
           {
            "fillpattern": {
             "fillmode": "overlay",
             "size": 10,
             "solidity": 0.2
            },
            "type": "scatter"
           }
          ],
          "scatter3d": [
           {
            "line": {
             "colorbar": {
              "outlinewidth": 0,
              "ticks": ""
             }
            },
            "marker": {
             "colorbar": {
              "outlinewidth": 0,
              "ticks": ""
             }
            },
            "type": "scatter3d"
           }
          ],
          "scattercarpet": [
           {
            "marker": {
             "colorbar": {
              "outlinewidth": 0,
              "ticks": ""
             }
            },
            "type": "scattercarpet"
           }
          ],
          "scattergeo": [
           {
            "marker": {
             "colorbar": {
              "outlinewidth": 0,
              "ticks": ""
             }
            },
            "type": "scattergeo"
           }
          ],
          "scattergl": [
           {
            "marker": {
             "colorbar": {
              "outlinewidth": 0,
              "ticks": ""
             }
            },
            "type": "scattergl"
           }
          ],
          "scattermapbox": [
           {
            "marker": {
             "colorbar": {
              "outlinewidth": 0,
              "ticks": ""
             }
            },
            "type": "scattermapbox"
           }
          ],
          "scatterpolar": [
           {
            "marker": {
             "colorbar": {
              "outlinewidth": 0,
              "ticks": ""
             }
            },
            "type": "scatterpolar"
           }
          ],
          "scatterpolargl": [
           {
            "marker": {
             "colorbar": {
              "outlinewidth": 0,
              "ticks": ""
             }
            },
            "type": "scatterpolargl"
           }
          ],
          "scatterternary": [
           {
            "marker": {
             "colorbar": {
              "outlinewidth": 0,
              "ticks": ""
             }
            },
            "type": "scatterternary"
           }
          ],
          "surface": [
           {
            "colorbar": {
             "outlinewidth": 0,
             "ticks": ""
            },
            "colorscale": [
             [
              0,
              "#0d0887"
             ],
             [
              0.1111111111111111,
              "#46039f"
             ],
             [
              0.2222222222222222,
              "#7201a8"
             ],
             [
              0.3333333333333333,
              "#9c179e"
             ],
             [
              0.4444444444444444,
              "#bd3786"
             ],
             [
              0.5555555555555556,
              "#d8576b"
             ],
             [
              0.6666666666666666,
              "#ed7953"
             ],
             [
              0.7777777777777778,
              "#fb9f3a"
             ],
             [
              0.8888888888888888,
              "#fdca26"
             ],
             [
              1,
              "#f0f921"
             ]
            ],
            "type": "surface"
           }
          ],
          "table": [
           {
            "cells": {
             "fill": {
              "color": "#EBF0F8"
             },
             "line": {
              "color": "white"
             }
            },
            "header": {
             "fill": {
              "color": "#C8D4E3"
             },
             "line": {
              "color": "white"
             }
            },
            "type": "table"
           }
          ]
         },
         "layout": {
          "annotationdefaults": {
           "arrowcolor": "#2a3f5f",
           "arrowhead": 0,
           "arrowwidth": 1
          },
          "autotypenumbers": "strict",
          "coloraxis": {
           "colorbar": {
            "outlinewidth": 0,
            "ticks": ""
           }
          },
          "colorscale": {
           "diverging": [
            [
             0,
             "#8e0152"
            ],
            [
             0.1,
             "#c51b7d"
            ],
            [
             0.2,
             "#de77ae"
            ],
            [
             0.3,
             "#f1b6da"
            ],
            [
             0.4,
             "#fde0ef"
            ],
            [
             0.5,
             "#f7f7f7"
            ],
            [
             0.6,
             "#e6f5d0"
            ],
            [
             0.7,
             "#b8e186"
            ],
            [
             0.8,
             "#7fbc41"
            ],
            [
             0.9,
             "#4d9221"
            ],
            [
             1,
             "#276419"
            ]
           ],
           "sequential": [
            [
             0,
             "#0d0887"
            ],
            [
             0.1111111111111111,
             "#46039f"
            ],
            [
             0.2222222222222222,
             "#7201a8"
            ],
            [
             0.3333333333333333,
             "#9c179e"
            ],
            [
             0.4444444444444444,
             "#bd3786"
            ],
            [
             0.5555555555555556,
             "#d8576b"
            ],
            [
             0.6666666666666666,
             "#ed7953"
            ],
            [
             0.7777777777777778,
             "#fb9f3a"
            ],
            [
             0.8888888888888888,
             "#fdca26"
            ],
            [
             1,
             "#f0f921"
            ]
           ],
           "sequentialminus": [
            [
             0,
             "#0d0887"
            ],
            [
             0.1111111111111111,
             "#46039f"
            ],
            [
             0.2222222222222222,
             "#7201a8"
            ],
            [
             0.3333333333333333,
             "#9c179e"
            ],
            [
             0.4444444444444444,
             "#bd3786"
            ],
            [
             0.5555555555555556,
             "#d8576b"
            ],
            [
             0.6666666666666666,
             "#ed7953"
            ],
            [
             0.7777777777777778,
             "#fb9f3a"
            ],
            [
             0.8888888888888888,
             "#fdca26"
            ],
            [
             1,
             "#f0f921"
            ]
           ]
          },
          "colorway": [
           "#636efa",
           "#EF553B",
           "#00cc96",
           "#ab63fa",
           "#FFA15A",
           "#19d3f3",
           "#FF6692",
           "#B6E880",
           "#FF97FF",
           "#FECB52"
          ],
          "font": {
           "color": "#2a3f5f"
          },
          "geo": {
           "bgcolor": "white",
           "lakecolor": "white",
           "landcolor": "#E5ECF6",
           "showlakes": true,
           "showland": true,
           "subunitcolor": "white"
          },
          "hoverlabel": {
           "align": "left"
          },
          "hovermode": "closest",
          "mapbox": {
           "style": "light"
          },
          "paper_bgcolor": "white",
          "plot_bgcolor": "#E5ECF6",
          "polar": {
           "angularaxis": {
            "gridcolor": "white",
            "linecolor": "white",
            "ticks": ""
           },
           "bgcolor": "#E5ECF6",
           "radialaxis": {
            "gridcolor": "white",
            "linecolor": "white",
            "ticks": ""
           }
          },
          "scene": {
           "xaxis": {
            "backgroundcolor": "#E5ECF6",
            "gridcolor": "white",
            "gridwidth": 2,
            "linecolor": "white",
            "showbackground": true,
            "ticks": "",
            "zerolinecolor": "white"
           },
           "yaxis": {
            "backgroundcolor": "#E5ECF6",
            "gridcolor": "white",
            "gridwidth": 2,
            "linecolor": "white",
            "showbackground": true,
            "ticks": "",
            "zerolinecolor": "white"
           },
           "zaxis": {
            "backgroundcolor": "#E5ECF6",
            "gridcolor": "white",
            "gridwidth": 2,
            "linecolor": "white",
            "showbackground": true,
            "ticks": "",
            "zerolinecolor": "white"
           }
          },
          "shapedefaults": {
           "line": {
            "color": "#2a3f5f"
           }
          },
          "ternary": {
           "aaxis": {
            "gridcolor": "white",
            "linecolor": "white",
            "ticks": ""
           },
           "baxis": {
            "gridcolor": "white",
            "linecolor": "white",
            "ticks": ""
           },
           "bgcolor": "#E5ECF6",
           "caxis": {
            "gridcolor": "white",
            "linecolor": "white",
            "ticks": ""
           }
          },
          "title": {
           "x": 0.05
          },
          "xaxis": {
           "automargin": true,
           "gridcolor": "white",
           "linecolor": "white",
           "ticks": "",
           "title": {
            "standoff": 15
           },
           "zerolinecolor": "white",
           "zerolinewidth": 2
          },
          "yaxis": {
           "automargin": true,
           "gridcolor": "white",
           "linecolor": "white",
           "ticks": "",
           "title": {
            "standoff": 15
           },
           "zerolinecolor": "white",
           "zerolinewidth": 2
          }
         }
        },
        "title": {
         "text": "Likelihood of Attrition by Education Level, Age Group, and Income Level"
        }
       }
      }
     },
     "metadata": {},
     "output_type": "display_data"
    }
   ],
   "source": [
    "# Group by Education_Level, Age_Group, and Income_Category\n",
    "grouped = df.groupby(['Education_Level', 'Age_Group', 'Income_Category'])\n",
    "\n",
    "# Calculate attrition rate for each group\n",
    "attrition_summary = grouped['Attrition_Flag_Original'].apply(lambda x: (x == 'Attrited').mean() * 100).reset_index(name='Attrition_Rate')\n",
    "# Create sunburst chart\n",
    "fig = px.sunburst(\n",
    "    attrition_summary,\n",
    "    path=['Education_Level', 'Age_Group', 'Income_Category'],\n",
    "    #values='Attrition_Rate',\n",
    "    color=attrition_summary['Attrition_Rate'],\n",
    "    hover_data={'Attrition_Rate': ':.2f'},\n",
    "    title='Likelihood of Attrition by Education Level, Age Group, and Income Level'\n",
    ")\n",
    "fig.update_traces(textinfo='label+percent entry')\n",
    "fig.show()"
   ]
  },
  {
   "cell_type": "markdown",
   "metadata": {
    "id": "ZY3l0-AxO93d"
   },
   "source": [
    "---"
   ]
  },
  {
   "cell_type": "markdown",
   "metadata": {
    "id": "uFQo3ycuO-v6"
   },
   "source": [
    "# Section 2"
   ]
  },
  {
   "cell_type": "markdown",
   "metadata": {},
   "source": [
    "Section 2 content"
   ]
  },
  {
   "cell_type": "code",
   "execution_count": null,
   "metadata": {},
   "outputs": [],
   "source": []
  },
  {
   "cell_type": "markdown",
   "metadata": {},
   "source": [
    "---"
   ]
  },
  {
   "cell_type": "markdown",
   "metadata": {},
   "source": [
    "NOTE"
   ]
  },
  {
   "cell_type": "markdown",
   "metadata": {},
   "source": [
    "* You may add as many sections as you want, as long as it supports your project workflow.\n",
    "* All notebook's cells should be run top-down (you can't create a dynamic wherein a given point you need to go back to a previous cell to execute some task, like go back to a previous cell and refresh a variable content)"
   ]
  },
  {
   "cell_type": "markdown",
   "metadata": {},
   "source": [
    "---"
   ]
  },
  {
   "cell_type": "markdown",
   "metadata": {
    "id": "ltNetd085qHf"
   },
   "source": [
    "# Push files to Repo"
   ]
  },
  {
   "cell_type": "markdown",
   "metadata": {},
   "source": [
    "* In cases where you don't need to push files to Repo, you may replace this section with \"Conclusions and Next Steps\" and state your conclusions and next steps."
   ]
  },
  {
   "cell_type": "code",
   "execution_count": null,
   "metadata": {
    "id": "aKlnIozA4eQO",
    "outputId": "fd09bc1f-adb1-4511-f6ce-492a6af570c0"
   },
   "outputs": [],
   "source": [
    "# import os\n",
    "# try:\n",
    "#   # create your folder here\n",
    "#   # os.makedirs(name='')\n",
    "# except Exception as e:\n",
    "#   print(e)\n"
   ]
  }
 ],
 "metadata": {
  "accelerator": "GPU",
  "colab": {
   "name": "Data Practitioner Jupyter Notebook.ipynb",
   "provenance": [],
   "toc_visible": true
  },
  "kernelspec": {
   "display_name": ".venv (3.12.8)",
   "language": "python",
   "name": "python3"
  },
  "language_info": {
   "codemirror_mode": {
    "name": "ipython",
    "version": 3
   },
   "file_extension": ".py",
   "mimetype": "text/x-python",
   "name": "python",
   "nbconvert_exporter": "python",
   "pygments_lexer": "ipython3",
   "version": "3.12.8"
  },
  "orig_nbformat": 2
 },
 "nbformat": 4,
 "nbformat_minor": 2
}
