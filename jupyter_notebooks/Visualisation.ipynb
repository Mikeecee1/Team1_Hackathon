{
  "cells": [
    {
      "cell_type": "markdown",
      "metadata": {
        "id": "0aStgWSO0E0E"
      },
      "source": [
        "# **Visualisation**"
      ]
    },
    {
      "cell_type": "markdown",
      "metadata": {
        "id": "1eLEkw5O0ECa"
      },
      "source": [
        "## Objectives\n",
        "\n",
        "* To examine the cleaned dataset for correlations which may support/ disprove our hypotheses\n",
        "* To produce visualisations which explore relationships, particularly those relating to attrition flag and:\n",
        "    * Age\n",
        "    * Education Level\n",
        "    * Income Level\n",
        "    * Gender\n",
        "\n",
        "## Inputs\n",
        "\n",
        "* The cleaned dataset produced in the Transformation stage\n",
        "* Use of y-data and visualisations produced in Extraction and Transformation stages to inform next steps\n",
        "* Any addtional information, from correlations for example, that may help with insights\n",
        "* The project hypotheses as outlined in README file\n",
        "\n",
        "## Outputs\n",
        "\n",
        "* Visualisations using Matplotlib, Seaborn and Plotly which may help explore correlations and relationships\n",
        "\n",
        "## Additional Comments\n",
        "\n",
        "* If you have any additional comments that don't fit in the previous bullets, please state them here. \n",
        "\n"
      ]
    },
    {
      "cell_type": "markdown",
      "metadata": {
        "id": "9uWZXH9LwoQg"
      },
      "source": [
        "---"
      ]
    },
    {
      "cell_type": "markdown",
      "metadata": {
        "id": "cqP-UeN-z3i2"
      },
      "source": [
        "# Change working directory"
      ]
    },
    {
      "cell_type": "markdown",
      "metadata": {},
      "source": [
        "* We are assuming you will store the notebooks in a subfolder, therefore when running the notebook in the editor, you will need to change the working directory"
      ]
    },
    {
      "cell_type": "markdown",
      "metadata": {
        "id": "aOGIGS-uz3i2"
      },
      "source": [
        "We need to change the working directory from its current folder to its parent folder\n",
        "* We access the current directory with os.getcwd()"
      ]
    },
    {
      "cell_type": "code",
      "execution_count": null,
      "metadata": {
        "id": "wZfF_j-Bz3i4",
        "outputId": "66943449-1436-4c3d-85c7-b85f9f78349b"
      },
      "outputs": [],
      "source": [
        "import os\n",
        "current_dir = os.getcwd()\n",
        "current_dir"
      ]
    },
    {
      "cell_type": "markdown",
      "metadata": {
        "id": "9MWW8E7lz3i7"
      },
      "source": [
        "We want to make the parent of the current directory the new current directory\n",
        "* os.path.dirname() gets the parent directory\n",
        "* os.chir() defines the new current directory"
      ]
    },
    {
      "cell_type": "code",
      "execution_count": null,
      "metadata": {
        "id": "TwHsQRWjz3i9",
        "outputId": "86849db3-cd2f-4cc5-ebb8-2d0caafa1a2c"
      },
      "outputs": [],
      "source": [
        "os.chdir(os.path.dirname(current_dir))\n",
        "print(\"You set a new current directory\")"
      ]
    },
    {
      "cell_type": "markdown",
      "metadata": {
        "id": "M_xPk_Ijz3i-"
      },
      "source": [
        "Confirm the new current directory"
      ]
    },
    {
      "cell_type": "code",
      "execution_count": null,
      "metadata": {
        "id": "vz3S-_kjz3jA",
        "outputId": "00b79ae4-75d0-4a96-d193-ac9ef9847ea2"
      },
      "outputs": [],
      "source": [
        "current_dir = os.getcwd()\n",
        "current_dir"
      ]
    },
    {
      "cell_type": "markdown",
      "metadata": {
        "id": "-mavJ8DibrcQ"
      },
      "source": [
        "# Section 1"
      ]
    },
    {
      "cell_type": "code",
      "execution_count": null,
      "metadata": {},
      "outputs": [],
      "source": []
    },
    {
      "cell_type": "markdown",
      "metadata": {},
      "source": [
        "### Exploratory Visualisations"
      ]
    },
    {
      "cell_type": "code",
      "execution_count": null,
      "metadata": {},
      "outputs": [],
      "source": [
        "#importing libraries\n",
        "import pandas as pd\n",
        "import numpy as np\n",
        "import matplotlib.pyplot as plt\n",
        "import seaborn as sns\n",
        "import plotly.express as px"
      ]
    },
    {
      "cell_type": "code",
      "execution_count": null,
      "metadata": {},
      "outputs": [],
      "source": [
        "##Import the cleaned dataset\n",
        "df = pd.read_csv('Data/Processed/BankChurners_transformed.csv')  #Change to cleaned dataset when available\n",
        "df.head()"
      ]
    },
    {
      "cell_type": "code",
      "execution_count": null,
      "metadata": {},
      "outputs": [],
      "source": [
        "df[\"Income_Category\"].value_counts()"
      ]
    },
    {
      "cell_type": "code",
      "execution_count": null,
      "metadata": {},
      "outputs": [],
      "source": [
        "##Box plots showing the distribution of Age and Education_Levelfor attrited and non-attrited customers\n",
        "# Order education level by typical hierarchy *unknown level not shown*\n",
        "education_order = ['Uneducated', 'High School', 'College', 'Graduate', 'Post-Graduate', 'Doctorate']\n",
        "df['Education_Level'] = pd.Categorical(df['Education_Level'], categories=education_order, ordered=True)\n",
        "\n",
        "plt.figure(figsize=(12, 5))\n",
        "sns.boxplot(x='Education_Level', y='Customer_Age', hue='Attrition_Flag_Original', data=df)\n",
        "plt.title('Age Distribution by Education Level and Attrition Status')\n",
        "plt.xlabel('Education Level')\n",
        "plt.ylabel('Age')\n",
        "plt.tight_layout()\n",
        "plt.show()"
      ]
    },
    {
      "cell_type": "code",
      "execution_count": null,
      "metadata": {},
      "outputs": [],
      "source": [
        "##Box plots showing the distribution of Age and Income_Level for attrited and non-attrited customers\n",
        "# Order income level by typical hierarchy *unknown level not shown*\n",
        "income_order = ['Less than $40K', '$40K - $60K', '$60K - $80K', '$80K - $120K', '$120K +']\n",
        "df['Income_Category'] = pd.Categorical(df['Income_Category'], categories=income_order, ordered=True)\n",
        "\n",
        "plt.figure(figsize=(12, 5))\n",
        "\n",
        "sns.boxplot(x='Income_Category', y='Customer_Age', hue='Attrition_Flag_Original', data=df)\n",
        "plt.title('Age Distribution by Income Level and Attrition Status')\n",
        "plt.xlabel('Income Level')\n",
        "plt.ylabel('Age')\n",
        "\n",
        "\n",
        "plt.tight_layout()\n",
        "plt.show()"
      ]
    },
    {
      "cell_type": "code",
      "execution_count": null,
      "metadata": {},
      "outputs": [
        {
          "data": {
            "image/png": "[encoded data removed]",
            "text/plain": [
              "<Figure size 1800x500 with 3 Axes>"
            ]
          },
          "metadata": {},
          "output_type": "display_data"
        }
      ],
      "source": [
        "#Histograms showing distribution of Age, Income_Level and Education_Level for attrited and non-attrited customers\n",
        "#show percentage of customers instead of count\n",
        "\n",
        "\n",
        "fig, axes = plt.subplots(1, 3, figsize=(18, 5)) \n",
        "sns.histplot(data=df, x='Customer_Age', hue='Attrition_Flag_Original', multiple='stack', stat='percent', ax=axes[0])\n",
        "axes[0].set_title('Age Distribution by Attrition Status')\n",
        "sns.histplot(data=df, x='Income_Category', hue='Attrition_Flag_Original', multiple='stack', stat='percent', ax=axes[1])\n",
        "axes[1].set_title('Income Level Distribution by Attrition Status')\n",
        "sns.histplot(data=df, x='Education_Level', hue='Attrition_Flag_Original', multiple='stack', stat='percent', ax=axes[2])\n",
        "axes[2].set_title('Education Level Distribution by Attrition Status')\n",
        "plt.tight_layout()\n",
        "plt.show()"
      ]
    },
    {
      "cell_type": "code",
      "execution_count": null,
      "metadata": {},
      "outputs": [
        {
          "data": {
            "text/html": [
              "<div>\n",
              "<style scoped>\n",
              "    .dataframe tbody tr th:only-of-type {\n",
              "        vertical-align: middle;\n",
              "    }\n",
              "\n",
              "    .dataframe tbody tr th {\n",
              "        vertical-align: top;\n",
              "    }\n",
              "\n",
              "    .dataframe thead th {\n",
              "        text-align: right;\n",
              "    }\n",
              "</style>\n",
              "<table border=\"1\" class=\"dataframe\">\n",
              "  <thead>\n",
              "    <tr style=\"text-align: right;\">\n",
              "      <th></th>\n",
              "      <th>Customer_Age</th>\n",
              "      <th>Gender</th>\n",
              "      <th>Dependent_count</th>\n",
              "      <th>Education_Level</th>\n",
              "      <th>Marital_Status</th>\n",
              "      <th>Income_Category</th>\n",
              "      <th>Card_Category</th>\n",
              "      <th>Months_on_book</th>\n",
              "      <th>Total_Relationship_Count</th>\n",
              "      <th>Months_Inactive_12_mon</th>\n",
              "      <th>...</th>\n",
              "      <th>Total_Revolving_Bal</th>\n",
              "      <th>Avg_Open_To_Buy</th>\n",
              "      <th>Total_Amt_Chng_Q4_Q1</th>\n",
              "      <th>Total_Trans_Amt</th>\n",
              "      <th>Total_Trans_Ct</th>\n",
              "      <th>Total_Ct_Chng_Q4_Q1</th>\n",
              "      <th>Avg_Utilization_Ratio</th>\n",
              "      <th>Age_Group</th>\n",
              "      <th>Attrition_Flag_Original</th>\n",
              "      <th>Attrition_Flag_Existing Customer</th>\n",
              "    </tr>\n",
              "  </thead>\n",
              "  <tbody>\n",
              "    <tr>\n",
              "      <th>0</th>\n",
              "      <td>45</td>\n",
              "      <td>M</td>\n",
              "      <td>3</td>\n",
              "      <td>High School</td>\n",
              "      <td>Married</td>\n",
              "      <td>$60K - $80K</td>\n",
              "      <td>Blue</td>\n",
              "      <td>39</td>\n",
              "      <td>5</td>\n",
              "      <td>1</td>\n",
              "      <td>...</td>\n",
              "      <td>777</td>\n",
              "      <td>11914.0</td>\n",
              "      <td>1.335</td>\n",
              "      <td>1144.0</td>\n",
              "      <td>42</td>\n",
              "      <td>1.625</td>\n",
              "      <td>0.061</td>\n",
              "      <td>35-44</td>\n",
              "      <td>Existing Customer</td>\n",
              "      <td>1</td>\n",
              "    </tr>\n",
              "    <tr>\n",
              "      <th>1</th>\n",
              "      <td>49</td>\n",
              "      <td>F</td>\n",
              "      <td>5</td>\n",
              "      <td>Graduate</td>\n",
              "      <td>Single</td>\n",
              "      <td>Less than $40K</td>\n",
              "      <td>Blue</td>\n",
              "      <td>44</td>\n",
              "      <td>6</td>\n",
              "      <td>1</td>\n",
              "      <td>...</td>\n",
              "      <td>864</td>\n",
              "      <td>7392.0</td>\n",
              "      <td>1.541</td>\n",
              "      <td>1291.0</td>\n",
              "      <td>33</td>\n",
              "      <td>3.714</td>\n",
              "      <td>0.105</td>\n",
              "      <td>45-54</td>\n",
              "      <td>Existing Customer</td>\n",
              "      <td>1</td>\n",
              "    </tr>\n",
              "    <tr>\n",
              "      <th>2</th>\n",
              "      <td>51</td>\n",
              "      <td>M</td>\n",
              "      <td>3</td>\n",
              "      <td>Graduate</td>\n",
              "      <td>Married</td>\n",
              "      <td>$80K - $120K</td>\n",
              "      <td>Blue</td>\n",
              "      <td>36</td>\n",
              "      <td>4</td>\n",
              "      <td>1</td>\n",
              "      <td>...</td>\n",
              "      <td>0</td>\n",
              "      <td>3418.0</td>\n",
              "      <td>2.594</td>\n",
              "      <td>1887.0</td>\n",
              "      <td>20</td>\n",
              "      <td>2.333</td>\n",
              "      <td>0.000</td>\n",
              "      <td>45-54</td>\n",
              "      <td>Existing Customer</td>\n",
              "      <td>1</td>\n",
              "    </tr>\n",
              "    <tr>\n",
              "      <th>3</th>\n",
              "      <td>40</td>\n",
              "      <td>F</td>\n",
              "      <td>4</td>\n",
              "      <td>High School</td>\n",
              "      <td>Unknown</td>\n",
              "      <td>Less than $40K</td>\n",
              "      <td>Blue</td>\n",
              "      <td>34</td>\n",
              "      <td>3</td>\n",
              "      <td>4</td>\n",
              "      <td>...</td>\n",
              "      <td>2517</td>\n",
              "      <td>796.0</td>\n",
              "      <td>1.405</td>\n",
              "      <td>1171.0</td>\n",
              "      <td>20</td>\n",
              "      <td>2.333</td>\n",
              "      <td>0.760</td>\n",
              "      <td>35-44</td>\n",
              "      <td>Existing Customer</td>\n",
              "      <td>1</td>\n",
              "    </tr>\n",
              "    <tr>\n",
              "      <th>4</th>\n",
              "      <td>40</td>\n",
              "      <td>M</td>\n",
              "      <td>3</td>\n",
              "      <td>Uneducated</td>\n",
              "      <td>Married</td>\n",
              "      <td>$60K - $80K</td>\n",
              "      <td>Blue</td>\n",
              "      <td>21</td>\n",
              "      <td>5</td>\n",
              "      <td>1</td>\n",
              "      <td>...</td>\n",
              "      <td>0</td>\n",
              "      <td>4716.0</td>\n",
              "      <td>2.175</td>\n",
              "      <td>816.0</td>\n",
              "      <td>28</td>\n",
              "      <td>2.500</td>\n",
              "      <td>0.000</td>\n",
              "      <td>35-44</td>\n",
              "      <td>Existing Customer</td>\n",
              "      <td>1</td>\n",
              "    </tr>\n",
              "  </tbody>\n",
              "</table>\n",
              "<p>5 rows × 22 columns</p>\n",
              "</div>"
            ],
            "text/plain": [
              "   Customer_Age Gender  Dependent_count Education_Level Marital_Status  \\\n",
              "0            45      M                3     High School        Married   \n",
              "1            49      F                5        Graduate         Single   \n",
              "2            51      M                3        Graduate        Married   \n",
              "3            40      F                4     High School        Unknown   \n",
              "4            40      M                3      Uneducated        Married   \n",
              "\n",
              "  Income_Category Card_Category  Months_on_book  Total_Relationship_Count  \\\n",
              "0     $60K - $80K          Blue              39                         5   \n",
              "1  Less than $40K          Blue              44                         6   \n",
              "2    $80K - $120K          Blue              36                         4   \n",
              "3  Less than $40K          Blue              34                         3   \n",
              "4     $60K - $80K          Blue              21                         5   \n",
              "\n",
              "   Months_Inactive_12_mon  ...  Total_Revolving_Bal  Avg_Open_To_Buy  \\\n",
              "0                       1  ...                  777          11914.0   \n",
              "1                       1  ...                  864           7392.0   \n",
              "2                       1  ...                    0           3418.0   \n",
              "3                       4  ...                 2517            796.0   \n",
              "4                       1  ...                    0           4716.0   \n",
              "\n",
              "   Total_Amt_Chng_Q4_Q1  Total_Trans_Amt  Total_Trans_Ct  Total_Ct_Chng_Q4_Q1  \\\n",
              "0                 1.335           1144.0              42                1.625   \n",
              "1                 1.541           1291.0              33                3.714   \n",
              "2                 2.594           1887.0              20                2.333   \n",
              "3                 1.405           1171.0              20                2.333   \n",
              "4                 2.175            816.0              28                2.500   \n",
              "\n",
              "   Avg_Utilization_Ratio  Age_Group  Attrition_Flag_Original  \\\n",
              "0                  0.061      35-44        Existing Customer   \n",
              "1                  0.105      45-54        Existing Customer   \n",
              "2                  0.000      45-54        Existing Customer   \n",
              "3                  0.760      35-44        Existing Customer   \n",
              "4                  0.000      35-44        Existing Customer   \n",
              "\n",
              "  Attrition_Flag_Existing Customer  \n",
              "0                                1  \n",
              "1                                1  \n",
              "2                                1  \n",
              "3                                1  \n",
              "4                                1  \n",
              "\n",
              "[5 rows x 22 columns]"
            ]
          },
          "execution_count": 27,
          "metadata": {},
          "output_type": "execute_result"
        }
      ],
      "source": [
        "\n",
        "# Create age groups\n",
        "df['Age_Group'] = pd.cut(df['Customer_Age'], bins=[0, 25, 35, 45, 55, 65, 100], labels=['<25', '25-34', '35-44', '45-54', '55-64', '65+'])\n",
        "df.head()\n"
      ]
    },
    {
      "cell_type": "code",
      "execution_count": null,
      "metadata": {},
      "outputs": [
        {
          "name": "stderr",
          "output_type": "stream",
          "text": [
            "C:\\Users\\mikee\\AppData\\Local\\Temp\\ipykernel_33420\\2822601691.py:4: FutureWarning:\n",
            "\n",
            "The default of observed=False is deprecated and will be changed to True in a future version of pandas. Pass observed=False to retain current behavior or observed=True to adopt the future default and silence this warning.\n",
            "\n",
            "C:\\Users\\mikee\\AppData\\Local\\Temp\\ipykernel_33420\\2822601691.py:5: FutureWarning:\n",
            "\n",
            "The default of observed=False is deprecated and will be changed to True in a future version of pandas. Pass observed=False to retain current behavior or observed=True to adopt the future default and silence this warning.\n",
            "\n"
          ]
        },
        {
          "data": {
            "text/html": [
              "<div>\n",
              "<style scoped>\n",
              "    .dataframe tbody tr th:only-of-type {\n",
              "        vertical-align: middle;\n",
              "    }\n",
              "\n",
              "    .dataframe tbody tr th {\n",
              "        vertical-align: top;\n",
              "    }\n",
              "\n",
              "    .dataframe thead th {\n",
              "        text-align: right;\n",
              "    }\n",
              "</style>\n",
              "<table border=\"1\" class=\"dataframe\">\n",
              "  <thead>\n",
              "    <tr style=\"text-align: right;\">\n",
              "      <th></th>\n",
              "      <th>Age_Group</th>\n",
              "      <th>Income_Category</th>\n",
              "      <th>Education_Level</th>\n",
              "      <th>Attrition_Flag_Original</th>\n",
              "      <th>Count</th>\n",
              "    </tr>\n",
              "  </thead>\n",
              "  <tbody>\n",
              "    <tr>\n",
              "      <th>0</th>\n",
              "      <td>&lt;25</td>\n",
              "      <td>Less than $40K</td>\n",
              "      <td>Uneducated</td>\n",
              "      <td>Attrited Customer</td>\n",
              "      <td>0</td>\n",
              "    </tr>\n",
              "    <tr>\n",
              "      <th>1</th>\n",
              "      <td>&lt;25</td>\n",
              "      <td>Less than $40K</td>\n",
              "      <td>Uneducated</td>\n",
              "      <td>Existing Customer</td>\n",
              "      <td>0</td>\n",
              "    </tr>\n",
              "    <tr>\n",
              "      <th>2</th>\n",
              "      <td>&lt;25</td>\n",
              "      <td>Less than $40K</td>\n",
              "      <td>High School</td>\n",
              "      <td>Attrited Customer</td>\n",
              "      <td>0</td>\n",
              "    </tr>\n",
              "    <tr>\n",
              "      <th>3</th>\n",
              "      <td>&lt;25</td>\n",
              "      <td>Less than $40K</td>\n",
              "      <td>High School</td>\n",
              "      <td>Existing Customer</td>\n",
              "      <td>0</td>\n",
              "    </tr>\n",
              "    <tr>\n",
              "      <th>4</th>\n",
              "      <td>&lt;25</td>\n",
              "      <td>Less than $40K</td>\n",
              "      <td>College</td>\n",
              "      <td>Attrited Customer</td>\n",
              "      <td>0</td>\n",
              "    </tr>\n",
              "  </tbody>\n",
              "</table>\n",
              "</div>"
            ],
            "text/plain": [
              "  Age_Group Income_Category Education_Level Attrition_Flag_Original  Count\n",
              "0       <25  Less than $40K      Uneducated       Attrited Customer      0\n",
              "1       <25  Less than $40K      Uneducated       Existing Customer      0\n",
              "2       <25  Less than $40K     High School       Attrited Customer      0\n",
              "3       <25  Less than $40K     High School       Existing Customer      0\n",
              "4       <25  Less than $40K         College       Attrited Customer      0"
            ]
          },
          "execution_count": 32,
          "metadata": {},
          "output_type": "execute_result"
        }
      ],
      "source": [
        "\n"
      ]
    },
    {
      "cell_type": "code",
      "execution_count": 30,
      "metadata": {},
      "outputs": [
        {
          "name": "stderr",
          "output_type": "stream",
          "text": [
            "c:\\Users\\mikee\\Desktop\\Hackathon1\\Team1_Hackathon\\.venv\\Lib\\site-packages\\plotly\\express\\_core.py:1699: FutureWarning:\n",
            "\n",
            "The default of observed=False is deprecated and will be changed to True in a future version of pandas. Pass observed=False to retain current behavior or observed=True to adopt the future default and silence this warning.\n",
            "\n",
            "c:\\Users\\mikee\\Desktop\\Hackathon1\\Team1_Hackathon\\.venv\\Lib\\site-packages\\plotly\\express\\_core.py:1699: FutureWarning:\n",
            "\n",
            "The default of observed=False is deprecated and will be changed to True in a future version of pandas. Pass observed=False to retain current behavior or observed=True to adopt the future default and silence this warning.\n",
            "\n",
            "c:\\Users\\mikee\\Desktop\\Hackathon1\\Team1_Hackathon\\.venv\\Lib\\site-packages\\plotly\\express\\_core.py:1699: FutureWarning:\n",
            "\n",
            "The default of observed=False is deprecated and will be changed to True in a future version of pandas. Pass observed=False to retain current behavior or observed=True to adopt the future default and silence this warning.\n",
            "\n"
          ]
        },
        {
          "data": {
            "application/vnd.plotly.v1+json": {
              "config": {
                "plotlyServerURL": "https://plot.ly"
              },
              "data": [
                {
                  "branchvalues": "total",
                  "domain": {
                    "x": [
                      0,
                      1
                    ],
                    "y": [
                      0,
                      1
                    ]
                  },
                  "hovertemplate": "labels=%{label}<br>Attrition_Percentage=%{value}<br>parent=%{parent}<br>id=%{id}<extra></extra>",
                  "ids": [
                    "<25/Less than $40K/Uneducated",
                    "25-34/Less than $40K/Uneducated",
                    "35-44/Less than $40K/Uneducated",
                    "45-54/Less than $40K/Uneducated",
                    "55-64/Less than $40K/Uneducated",
                    "65+/Less than $40K/Uneducated",
                    "<25/$40K - $60K/Uneducated",
                    "25-34/$40K - $60K/Uneducated",
                    "35-44/$40K - $60K/Uneducated",
                    "45-54/$40K - $60K/Uneducated",
                    "55-64/$40K - $60K/Uneducated",
                    "65+/$40K - $60K/Uneducated",
                    "<25/$60K - $80K/Uneducated",
                    "25-34/$60K - $80K/Uneducated",
                    "35-44/$60K - $80K/Uneducated",
                    "45-54/$60K - $80K/Uneducated",
                    "55-64/$60K - $80K/Uneducated",
                    "65+/$60K - $80K/Uneducated",
                    "<25/$80K - $120K/Uneducated",
                    "25-34/$80K - $120K/Uneducated",
                    "35-44/$80K - $120K/Uneducated",
                    "45-54/$80K - $120K/Uneducated",
                    "55-64/$80K - $120K/Uneducated",
                    "65+/$80K - $120K/Uneducated",
                    "<25/$120K +/Uneducated",
                    "25-34/$120K +/Uneducated",
                    "35-44/$120K +/Uneducated",
                    "45-54/$120K +/Uneducated",
                    "55-64/$120K +/Uneducated",
                    "65+/$120K +/Uneducated",
                    "<25/Less than $40K/High School",
                    "25-34/Less than $40K/High School",
                    "35-44/Less than $40K/High School",
                    "45-54/Less than $40K/High School",
                    "55-64/Less than $40K/High School",
                    "65+/Less than $40K/High School",
                    "<25/$40K - $60K/High School",
                    "25-34/$40K - $60K/High School",
                    "35-44/$40K - $60K/High School",
                    "45-54/$40K - $60K/High School",
                    "55-64/$40K - $60K/High School",
                    "65+/$40K - $60K/High School",
                    "<25/$60K - $80K/High School",
                    "25-34/$60K - $80K/High School",
                    "35-44/$60K - $80K/High School",
                    "45-54/$60K - $80K/High School",
                    "55-64/$60K - $80K/High School",
                    "65+/$60K - $80K/High School",
                    "<25/$80K - $120K/High School",
                    "25-34/$80K - $120K/High School",
                    "35-44/$80K - $120K/High School",
                    "45-54/$80K - $120K/High School",
                    "55-64/$80K - $120K/High School",
                    "65+/$80K - $120K/High School",
                    "<25/$120K +/High School",
                    "25-34/$120K +/High School",
                    "35-44/$120K +/High School",
                    "45-54/$120K +/High School",
                    "55-64/$120K +/High School",
                    "65+/$120K +/High School",
                    "<25/Less than $40K/College",
                    "25-34/Less than $40K/College",
                    "35-44/Less than $40K/College",
                    "45-54/Less than $40K/College",
                    "55-64/Less than $40K/College",
                    "65+/Less than $40K/College",
                    "<25/$40K - $60K/College",
                    "25-34/$40K - $60K/College",
                    "35-44/$40K - $60K/College",
                    "45-54/$40K - $60K/College",
                    "55-64/$40K - $60K/College",
                    "65+/$40K - $60K/College",
                    "<25/$60K - $80K/College",
                    "25-34/$60K - $80K/College",
                    "35-44/$60K - $80K/College",
                    "45-54/$60K - $80K/College",
                    "55-64/$60K - $80K/College",
                    "65+/$60K - $80K/College",
                    "<25/$80K - $120K/College",
                    "25-34/$80K - $120K/College",
                    "35-44/$80K - $120K/College",
                    "45-54/$80K - $120K/College",
                    "55-64/$80K - $120K/College",
                    "65+/$80K - $120K/College",
                    "<25/$120K +/College",
                    "25-34/$120K +/College",
                    "35-44/$120K +/College",
                    "45-54/$120K +/College",
                    "55-64/$120K +/College",
                    "65+/$120K +/College",
                    "<25/Less than $40K/Graduate",
                    "25-34/Less than $40K/Graduate",
                    "35-44/Less than $40K/Graduate",
                    "45-54/Less than $40K/Graduate",
                    "55-64/Less than $40K/Graduate",
                    "65+/Less than $40K/Graduate",
                    "<25/$40K - $60K/Graduate",
                    "25-34/$40K - $60K/Graduate",
                    "35-44/$40K - $60K/Graduate",
                    "45-54/$40K - $60K/Graduate",
                    "55-64/$40K - $60K/Graduate",
                    "65+/$40K - $60K/Graduate",
                    "<25/$60K - $80K/Graduate",
                    "25-34/$60K - $80K/Graduate",
                    "35-44/$60K - $80K/Graduate",
                    "45-54/$60K - $80K/Graduate",
                    "55-64/$60K - $80K/Graduate",
                    "65+/$60K - $80K/Graduate",
                    "<25/$80K - $120K/Graduate",
                    "25-34/$80K - $120K/Graduate",
                    "35-44/$80K - $120K/Graduate",
                    "45-54/$80K - $120K/Graduate",
                    "55-64/$80K - $120K/Graduate",
                    "65+/$80K - $120K/Graduate",
                    "<25/$120K +/Graduate",
                    "25-34/$120K +/Graduate",
                    "35-44/$120K +/Graduate",
                    "45-54/$120K +/Graduate",
                    "55-64/$120K +/Graduate",
                    "65+/$120K +/Graduate",
                    "<25/Less than $40K/Post-Graduate",
                    "25-34/Less than $40K/Post-Graduate",
                    "35-44/Less than $40K/Post-Graduate",
                    "45-54/Less than $40K/Post-Graduate",
                    "55-64/Less than $40K/Post-Graduate",
                    "65+/Less than $40K/Post-Graduate",
                    "<25/$40K - $60K/Post-Graduate",
                    "25-34/$40K - $60K/Post-Graduate",
                    "35-44/$40K - $60K/Post-Graduate",
                    "45-54/$40K - $60K/Post-Graduate",
                    "55-64/$40K - $60K/Post-Graduate",
                    "65+/$40K - $60K/Post-Graduate",
                    "<25/$60K - $80K/Post-Graduate",
                    "25-34/$60K - $80K/Post-Graduate",
                    "35-44/$60K - $80K/Post-Graduate",
                    "45-54/$60K - $80K/Post-Graduate",
                    "55-64/$60K - $80K/Post-Graduate",
                    "65+/$60K - $80K/Post-Graduate",
                    "<25/$80K - $120K/Post-Graduate",
                    "25-34/$80K - $120K/Post-Graduate",
                    "35-44/$80K - $120K/Post-Graduate",
                    "45-54/$80K - $120K/Post-Graduate",
                    "55-64/$80K - $120K/Post-Graduate",
                    "65+/$80K - $120K/Post-Graduate",
                    "<25/$120K +/Post-Graduate",
                    "25-34/$120K +/Post-Graduate",
                    "35-44/$120K +/Post-Graduate",
                    "45-54/$120K +/Post-Graduate",
                    "55-64/$120K +/Post-Graduate",
                    "65+/$120K +/Post-Graduate",
                    "<25/Less than $40K/Doctorate",
                    "25-34/Less than $40K/Doctorate",
                    "35-44/Less than $40K/Doctorate",
                    "45-54/Less than $40K/Doctorate",
                    "55-64/Less than $40K/Doctorate",
                    "65+/Less than $40K/Doctorate",
                    "<25/$40K - $60K/Doctorate",
                    "25-34/$40K - $60K/Doctorate",
                    "35-44/$40K - $60K/Doctorate",
                    "45-54/$40K - $60K/Doctorate",
                    "55-64/$40K - $60K/Doctorate",
                    "65+/$40K - $60K/Doctorate",
                    "<25/$60K - $80K/Doctorate",
                    "25-34/$60K - $80K/Doctorate",
                    "35-44/$60K - $80K/Doctorate",
                    "45-54/$60K - $80K/Doctorate",
                    "55-64/$60K - $80K/Doctorate",
                    "65+/$60K - $80K/Doctorate",
                    "<25/$80K - $120K/Doctorate",
                    "25-34/$80K - $120K/Doctorate",
                    "35-44/$80K - $120K/Doctorate",
                    "45-54/$80K - $120K/Doctorate",
                    "55-64/$80K - $120K/Doctorate",
                    "65+/$80K - $120K/Doctorate",
                    "<25/$120K +/Doctorate",
                    "25-34/$120K +/Doctorate",
                    "35-44/$120K +/Doctorate",
                    "45-54/$120K +/Doctorate",
                    "55-64/$120K +/Doctorate",
                    "65+/$120K +/Doctorate",
                    "<25/Less than $40K",
                    "25-34/Less than $40K",
                    "35-44/Less than $40K",
                    "45-54/Less than $40K",
                    "55-64/Less than $40K",
                    "65+/Less than $40K",
                    "<25/$40K - $60K",
                    "25-34/$40K - $60K",
                    "35-44/$40K - $60K",
                    "45-54/$40K - $60K",
                    "55-64/$40K - $60K",
                    "65+/$40K - $60K",
                    "<25/$60K - $80K",
                    "25-34/$60K - $80K",
                    "35-44/$60K - $80K",
                    "45-54/$60K - $80K",
                    "55-64/$60K - $80K",
                    "65+/$60K - $80K",
                    "<25/$80K - $120K",
                    "25-34/$80K - $120K",
                    "35-44/$80K - $120K",
                    "45-54/$80K - $120K",
                    "55-64/$80K - $120K",
                    "65+/$80K - $120K",
                    "<25/$120K +",
                    "25-34/$120K +",
                    "35-44/$120K +",
                    "45-54/$120K +",
                    "55-64/$120K +",
                    "65+/$120K +",
                    "<25",
                    "25-34",
                    "35-44",
                    "45-54",
                    "55-64",
                    "65+"
                  ],
                  "labels": [
                    "Uneducated",
                    "Uneducated",
                    "Uneducated",
                    "Uneducated",
                    "Uneducated",
                    "Uneducated",
                    "Uneducated",
                    "Uneducated",
                    "Uneducated",
                    "Uneducated",
                    "Uneducated",
                    "Uneducated",
                    "Uneducated",
                    "Uneducated",
                    "Uneducated",
                    "Uneducated",
                    "Uneducated",
                    "Uneducated",
                    "Uneducated",
                    "Uneducated",
                    "Uneducated",
                    "Uneducated",
                    "Uneducated",
                    "Uneducated",
                    "Uneducated",
                    "Uneducated",
                    "Uneducated",
                    "Uneducated",
                    "Uneducated",
                    "Uneducated",
                    "High School",
                    "High School",
                    "High School",
                    "High School",
                    "High School",
                    "High School",
                    "High School",
                    "High School",
                    "High School",
                    "High School",
                    "High School",
                    "High School",
                    "High School",
                    "High School",
                    "High School",
                    "High School",
                    "High School",
                    "High School",
                    "High School",
                    "High School",
                    "High School",
                    "High School",
                    "High School",
                    "High School",
                    "High School",
                    "High School",
                    "High School",
                    "High School",
                    "High School",
                    "High School",
                    "College",
                    "College",
                    "College",
                    "College",
                    "College",
                    "College",
                    "College",
                    "College",
                    "College",
                    "College",
                    "College",
                    "College",
                    "College",
                    "College",
                    "College",
                    "College",
                    "College",
                    "College",
                    "College",
                    "College",
                    "College",
                    "College",
                    "College",
                    "College",
                    "College",
                    "College",
                    "College",
                    "College",
                    "College",
                    "College",
                    "Graduate",
                    "Graduate",
                    "Graduate",
                    "Graduate",
                    "Graduate",
                    "Graduate",
                    "Graduate",
                    "Graduate",
                    "Graduate",
                    "Graduate",
                    "Graduate",
                    "Graduate",
                    "Graduate",
                    "Graduate",
                    "Graduate",
                    "Graduate",
                    "Graduate",
                    "Graduate",
                    "Graduate",
                    "Graduate",
                    "Graduate",
                    "Graduate",
                    "Graduate",
                    "Graduate",
                    "Graduate",
                    "Graduate",
                    "Graduate",
                    "Graduate",
                    "Graduate",
                    "Graduate",
                    "Post-Graduate",
                    "Post-Graduate",
                    "Post-Graduate",
                    "Post-Graduate",
                    "Post-Graduate",
                    "Post-Graduate",
                    "Post-Graduate",
                    "Post-Graduate",
                    "Post-Graduate",
                    "Post-Graduate",
                    "Post-Graduate",
                    "Post-Graduate",
                    "Post-Graduate",
                    "Post-Graduate",
                    "Post-Graduate",
                    "Post-Graduate",
                    "Post-Graduate",
                    "Post-Graduate",
                    "Post-Graduate",
                    "Post-Graduate",
                    "Post-Graduate",
                    "Post-Graduate",
                    "Post-Graduate",
                    "Post-Graduate",
                    "Post-Graduate",
                    "Post-Graduate",
                    "Post-Graduate",
                    "Post-Graduate",
                    "Post-Graduate",
                    "Post-Graduate",
                    "Doctorate",
                    "Doctorate",
                    "Doctorate",
                    "Doctorate",
                    "Doctorate",
                    "Doctorate",
                    "Doctorate",
                    "Doctorate",
                    "Doctorate",
                    "Doctorate",
                    "Doctorate",
                    "Doctorate",
                    "Doctorate",
                    "Doctorate",
                    "Doctorate",
                    "Doctorate",
                    "Doctorate",
                    "Doctorate",
                    "Doctorate",
                    "Doctorate",
                    "Doctorate",
                    "Doctorate",
                    "Doctorate",
                    "Doctorate",
                    "Doctorate",
                    "Doctorate",
                    "Doctorate",
                    "Doctorate",
                    "Doctorate",
                    "Doctorate",
                    "Less than $40K",
                    "Less than $40K",
                    "Less than $40K",
                    "Less than $40K",
                    "Less than $40K",
                    "Less than $40K",
                    "$40K - $60K",
                    "$40K - $60K",
                    "$40K - $60K",
                    "$40K - $60K",
                    "$40K - $60K",
                    "$40K - $60K",
                    "$60K - $80K",
                    "$60K - $80K",
                    "$60K - $80K",
                    "$60K - $80K",
                    "$60K - $80K",
                    "$60K - $80K",
                    "$80K - $120K",
                    "$80K - $120K",
                    "$80K - $120K",
                    "$80K - $120K",
                    "$80K - $120K",
                    "$80K - $120K",
                    "$120K +",
                    "$120K +",
                    "$120K +",
                    "$120K +",
                    "$120K +",
                    "$120K +",
                    "<25",
                    "25-34",
                    "35-44",
                    "45-54",
                    "55-64",
                    "65+"
                  ],
                  "name": "",
                  "parents": [
                    "<25/Less than $40K",
                    "25-34/Less than $40K",
                    "35-44/Less than $40K",
                    "45-54/Less than $40K",
                    "55-64/Less than $40K",
                    "65+/Less than $40K",
                    "<25/$40K - $60K",
                    "25-34/$40K - $60K",
                    "35-44/$40K - $60K",
                    "45-54/$40K - $60K",
                    "55-64/$40K - $60K",
                    "65+/$40K - $60K",
                    "<25/$60K - $80K",
                    "25-34/$60K - $80K",
                    "35-44/$60K - $80K",
                    "45-54/$60K - $80K",
                    "55-64/$60K - $80K",
                    "65+/$60K - $80K",
                    "<25/$80K - $120K",
                    "25-34/$80K - $120K",
                    "35-44/$80K - $120K",
                    "45-54/$80K - $120K",
                    "55-64/$80K - $120K",
                    "65+/$80K - $120K",
                    "<25/$120K +",
                    "25-34/$120K +",
                    "35-44/$120K +",
                    "45-54/$120K +",
                    "55-64/$120K +",
                    "65+/$120K +",
                    "<25/Less than $40K",
                    "25-34/Less than $40K",
                    "35-44/Less than $40K",
                    "45-54/Less than $40K",
                    "55-64/Less than $40K",
                    "65+/Less than $40K",
                    "<25/$40K - $60K",
                    "25-34/$40K - $60K",
                    "35-44/$40K - $60K",
                    "45-54/$40K - $60K",
                    "55-64/$40K - $60K",
                    "65+/$40K - $60K",
                    "<25/$60K - $80K",
                    "25-34/$60K - $80K",
                    "35-44/$60K - $80K",
                    "45-54/$60K - $80K",
                    "55-64/$60K - $80K",
                    "65+/$60K - $80K",
                    "<25/$80K - $120K",
                    "25-34/$80K - $120K",
                    "35-44/$80K - $120K",
                    "45-54/$80K - $120K",
                    "55-64/$80K - $120K",
                    "65+/$80K - $120K",
                    "<25/$120K +",
                    "25-34/$120K +",
                    "35-44/$120K +",
                    "45-54/$120K +",
                    "55-64/$120K +",
                    "65+/$120K +",
                    "<25/Less than $40K",
                    "25-34/Less than $40K",
                    "35-44/Less than $40K",
                    "45-54/Less than $40K",
                    "55-64/Less than $40K",
                    "65+/Less than $40K",
                    "<25/$40K - $60K",
                    "25-34/$40K - $60K",
                    "35-44/$40K - $60K",
                    "45-54/$40K - $60K",
                    "55-64/$40K - $60K",
                    "65+/$40K - $60K",
                    "<25/$60K - $80K",
                    "25-34/$60K - $80K",
                    "35-44/$60K - $80K",
                    "45-54/$60K - $80K",
                    "55-64/$60K - $80K",
                    "65+/$60K - $80K",
                    "<25/$80K - $120K",
                    "25-34/$80K - $120K",
                    "35-44/$80K - $120K",
                    "45-54/$80K - $120K",
                    "55-64/$80K - $120K",
                    "65+/$80K - $120K",
                    "<25/$120K +",
                    "25-34/$120K +",
                    "35-44/$120K +",
                    "45-54/$120K +",
                    "55-64/$120K +",
                    "65+/$120K +",
                    "<25/Less than $40K",
                    "25-34/Less than $40K",
                    "35-44/Less than $40K",
                    "45-54/Less than $40K",
                    "55-64/Less than $40K",
                    "65+/Less than $40K",
                    "<25/$40K - $60K",
                    "25-34/$40K - $60K",
                    "35-44/$40K - $60K",
                    "45-54/$40K - $60K",
                    "55-64/$40K - $60K",
                    "65+/$40K - $60K",
                    "<25/$60K - $80K",
                    "25-34/$60K - $80K",
                    "35-44/$60K - $80K",
                    "45-54/$60K - $80K",
                    "55-64/$60K - $80K",
                    "65+/$60K - $80K",
                    "<25/$80K - $120K",
                    "25-34/$80K - $120K",
                    "35-44/$80K - $120K",
                    "45-54/$80K - $120K",
                    "55-64/$80K - $120K",
                    "65+/$80K - $120K",
                    "<25/$120K +",
                    "25-34/$120K +",
                    "35-44/$120K +",
                    "45-54/$120K +",
                    "55-64/$120K +",
                    "65+/$120K +",
                    "<25/Less than $40K",
                    "25-34/Less than $40K",
                    "35-44/Less than $40K",
                    "45-54/Less than $40K",
                    "55-64/Less than $40K",
                    "65+/Less than $40K",
                    "<25/$40K - $60K",
                    "25-34/$40K - $60K",
                    "35-44/$40K - $60K",
                    "45-54/$40K - $60K",
                    "55-64/$40K - $60K",
                    "65+/$40K - $60K",
                    "<25/$60K - $80K",
                    "25-34/$60K - $80K",
                    "35-44/$60K - $80K",
                    "45-54/$60K - $80K",
                    "55-64/$60K - $80K",
                    "65+/$60K - $80K",
                    "<25/$80K - $120K",
                    "25-34/$80K - $120K",
                    "35-44/$80K - $120K",
                    "45-54/$80K - $120K",
                    "55-64/$80K - $120K",
                    "65+/$80K - $120K",
                    "<25/$120K +",
                    "25-34/$120K +",
                    "35-44/$120K +",
                    "45-54/$120K +",
                    "55-64/$120K +",
                    "65+/$120K +",
                    "<25/Less than $40K",
                    "25-34/Less than $40K",
                    "35-44/Less than $40K",
                    "45-54/Less than $40K",
                    "55-64/Less than $40K",
                    "65+/Less than $40K",
                    "<25/$40K - $60K",
                    "25-34/$40K - $60K",
                    "35-44/$40K - $60K",
                    "45-54/$40K - $60K",
                    "55-64/$40K - $60K",
                    "65+/$40K - $60K",
                    "<25/$60K - $80K",
                    "25-34/$60K - $80K",
                    "35-44/$60K - $80K",
                    "45-54/$60K - $80K",
                    "55-64/$60K - $80K",
                    "65+/$60K - $80K",
                    "<25/$80K - $120K",
                    "25-34/$80K - $120K",
                    "35-44/$80K - $120K",
                    "45-54/$80K - $120K",
                    "55-64/$80K - $120K",
                    "65+/$80K - $120K",
                    "<25/$120K +",
                    "25-34/$120K +",
                    "35-44/$120K +",
                    "45-54/$120K +",
                    "55-64/$120K +",
                    "65+/$120K +",
                    "<25",
                    "25-34",
                    "35-44",
                    "45-54",
                    "55-64",
                    "65+",
                    "<25",
                    "25-34",
                    "35-44",
                    "45-54",
                    "55-64",
                    "65+",
                    "<25",
                    "25-34",
                    "35-44",
                    "45-54",
                    "55-64",
                    "65+",
                    "<25",
                    "25-34",
                    "35-44",
                    "45-54",
                    "55-64",
                    "65+",
                    "<25",
                    "25-34",
                    "35-44",
                    "45-54",
                    "55-64",
                    "65+",
                    "",
                    "",
                    "",
                    "",
                    "",
                    ""
                  ],
                  "textinfo": "label+percent entry",
                  "type": "sunburst",
                  "values": [
                    0,
                    12.962962962962962,
                    18.009478672985782,
                    12.299465240641712,
                    17.142857142857142,
                    0,
                    0,
                    15.789473684210526,
                    16.27906976744186,
                    18.181818181818183,
                    13.636363636363635,
                    0,
                    0,
                    5.555555555555555,
                    11.11111111111111,
                    13.48314606741573,
                    16,
                    0,
                    0,
                    16.666666666666664,
                    18.085106382978726,
                    13.793103448275861,
                    23.333333333333332,
                    0,
                    0,
                    0,
                    18.91891891891892,
                    22.58064516129032,
                    16.666666666666664,
                    0,
                    0,
                    4.615384615384616,
                    16.317991631799163,
                    14.393939393939394,
                    20,
                    33.33333333333333,
                    0,
                    12.82051282051282,
                    14.705882352941178,
                    12.396694214876034,
                    18.96551724137931,
                    0,
                    0,
                    13.793103448275861,
                    11.570247933884298,
                    12.82051282051282,
                    22.5,
                    0,
                    0,
                    12.5,
                    9.090909090909092,
                    17.985611510791365,
                    9.375,
                    0,
                    0,
                    16.666666666666664,
                    23.404255319148938,
                    18.51851851851852,
                    7.6923076923076925,
                    0,
                    0,
                    15.789473684210526,
                    17.647058823529413,
                    11.678832116788321,
                    11.76470588235294,
                    0,
                    0,
                    5.88235294117647,
                    17.441860465116278,
                    9.67741935483871,
                    11.11111111111111,
                    0,
                    0,
                    14.285714285714285,
                    16.39344262295082,
                    6.25,
                    22.22222222222222,
                    0,
                    0,
                    11.11111111111111,
                    22.58064516129032,
                    19.480519480519483,
                    27.77777777777778,
                    0,
                    0,
                    100,
                    13.333333333333334,
                    11.11111111111111,
                    44.44444444444444,
                    0,
                    0,
                    21.6,
                    17.061611374407583,
                    20.97902097902098,
                    12.962962962962962,
                    0,
                    0,
                    7.017543859649122,
                    15.695067264573993,
                    16.25615763546798,
                    7.246376811594203,
                    0,
                    0,
                    10.344827586206897,
                    13.020833333333334,
                    9.45945945945946,
                    18.867924528301888,
                    0,
                    0,
                    13.793103448275861,
                    15,
                    13.333333333333334,
                    13.636363636363635,
                    0,
                    0,
                    27.27272727272727,
                    11.11111111111111,
                    14.285714285714285,
                    25,
                    0,
                    0,
                    24,
                    17.1875,
                    25,
                    9.523809523809524,
                    0,
                    0,
                    23.076923076923077,
                    16.216216216216218,
                    15.555555555555555,
                    6.25,
                    0,
                    0,
                    33.33333333333333,
                    17.857142857142858,
                    17.647058823529413,
                    33.33333333333333,
                    0,
                    0,
                    9.090909090909092,
                    15.384615384615385,
                    24.324324324324326,
                    42.857142857142854,
                    0,
                    0,
                    0,
                    25,
                    10.526315789473683,
                    0,
                    0,
                    0,
                    18.181818181818183,
                    26.41509433962264,
                    30.136986301369863,
                    19.047619047619047,
                    0,
                    0,
                    0,
                    20,
                    23.076923076923077,
                    0,
                    0,
                    0,
                    0,
                    22.727272727272727,
                    7.4074074074074066,
                    0,
                    0,
                    0,
                    100,
                    10,
                    24.137931034482758,
                    0,
                    0,
                    0,
                    0,
                    30.76923076923077,
                    19.047619047619047,
                    0,
                    0,
                    0,
                    97.14963944437629,
                    112.63873484234458,
                    114.48824403176027,
                    90.44195455960161,
                    33.33333333333333,
                    0,
                    64.58680638247202,
                    100.33809606628952,
                    95.14456801947954,
                    57.20936880044826,
                    0,
                    0,
                    77.31253420908592,
                    92.68005058569514,
                    67.06758457832483,
                    112.92348008385744,
                    0,
                    0,
                    163.16179031696274,
                    90.14127601979352,
                    113.05482313172713,
                    116.9796176046176,
                    0,
                    0,
                    143.93939393939394,
                    122.53684945174307,
                    96.06992391372697,
                    93.8034188034188,
                    0,
                    0,
                    546.1501642922909,
                    518.3350069658659,
                    485.82514367501875,
                    471.3578398519437,
                    33.33333333333333
                  ]
                }
              ],
              "layout": {
                "legend": {
                  "tracegroupgap": 0
                },
                "template": {
                  "data": {
                    "bar": [
                      {
                        "error_x": {
                          "color": "#2a3f5f"
                        },
                        "error_y": {
                          "color": "#2a3f5f"
                        },
                        "marker": {
                          "line": {
                            "color": "#E5ECF6",
                            "width": 0.5
                          },
                          "pattern": {
                            "fillmode": "overlay",
                            "size": 10,
                            "solidity": 0.2
                          }
                        },
                        "type": "bar"
                      }
                    ],
                    "barpolar": [
                      {
                        "marker": {
                          "line": {
                            "color": "#E5ECF6",
                            "width": 0.5
                          },
                          "pattern": {
                            "fillmode": "overlay",
                            "size": 10,
                            "solidity": 0.2
                          }
                        },
                        "type": "barpolar"
                      }
                    ],
                    "carpet": [
                      {
                        "aaxis": {
                          "endlinecolor": "#2a3f5f",
                          "gridcolor": "white",
                          "linecolor": "white",
                          "minorgridcolor": "white",
                          "startlinecolor": "#2a3f5f"
                        },
                        "baxis": {
                          "endlinecolor": "#2a3f5f",
                          "gridcolor": "white",
                          "linecolor": "white",
                          "minorgridcolor": "white",
                          "startlinecolor": "#2a3f5f"
                        },
                        "type": "carpet"
                      }
                    ],
                    "choropleth": [
                      {
                        "colorbar": {
                          "outlinewidth": 0,
                          "ticks": ""
                        },
                        "type": "choropleth"
                      }
                    ],
                    "contour": [
                      {
                        "colorbar": {
                          "outlinewidth": 0,
                          "ticks": ""
                        },
                        "colorscale": [
                          [
                            0,
                            "#0d0887"
                          ],
                          [
                            0.1111111111111111,
                            "#46039f"
                          ],
                          [
                            0.2222222222222222,
                            "#7201a8"
                          ],
                          [
                            0.3333333333333333,
                            "#9c179e"
                          ],
                          [
                            0.4444444444444444,
                            "#bd3786"
                          ],
                          [
                            0.5555555555555556,
                            "#d8576b"
                          ],
                          [
                            0.6666666666666666,
                            "#ed7953"
                          ],
                          [
                            0.7777777777777778,
                            "#fb9f3a"
                          ],
                          [
                            0.8888888888888888,
                            "#fdca26"
                          ],
                          [
                            1,
                            "#f0f921"
                          ]
                        ],
                        "type": "contour"
                      }
                    ],
                    "contourcarpet": [
                      {
                        "colorbar": {
                          "outlinewidth": 0,
                          "ticks": ""
                        },
                        "type": "contourcarpet"
                      }
                    ],
                    "heatmap": [
                      {
                        "colorbar": {
                          "outlinewidth": 0,
                          "ticks": ""
                        },
                        "colorscale": [
                          [
                            0,
                            "#0d0887"
                          ],
                          [
                            0.1111111111111111,
                            "#46039f"
                          ],
                          [
                            0.2222222222222222,
                            "#7201a8"
                          ],
                          [
                            0.3333333333333333,
                            "#9c179e"
                          ],
                          [
                            0.4444444444444444,
                            "#bd3786"
                          ],
                          [
                            0.5555555555555556,
                            "#d8576b"
                          ],
                          [
                            0.6666666666666666,
                            "#ed7953"
                          ],
                          [
                            0.7777777777777778,
                            "#fb9f3a"
                          ],
                          [
                            0.8888888888888888,
                            "#fdca26"
                          ],
                          [
                            1,
                            "#f0f921"
                          ]
                        ],
                        "type": "heatmap"
                      }
                    ],
                    "heatmapgl": [
                      {
                        "colorbar": {
                          "outlinewidth": 0,
                          "ticks": ""
                        },
                        "colorscale": [
                          [
                            0,
                            "#0d0887"
                          ],
                          [
                            0.1111111111111111,
                            "#46039f"
                          ],
                          [
                            0.2222222222222222,
                            "#7201a8"
                          ],
                          [
                            0.3333333333333333,
                            "#9c179e"
                          ],
                          [
                            0.4444444444444444,
                            "#bd3786"
                          ],
                          [
                            0.5555555555555556,
                            "#d8576b"
                          ],
                          [
                            0.6666666666666666,
                            "#ed7953"
                          ],
                          [
                            0.7777777777777778,
                            "#fb9f3a"
                          ],
                          [
                            0.8888888888888888,
                            "#fdca26"
                          ],
                          [
                            1,
                            "#f0f921"
                          ]
                        ],
                        "type": "heatmapgl"
                      }
                    ],
                    "histogram": [
                      {
                        "marker": {
                          "pattern": {
                            "fillmode": "overlay",
                            "size": 10,
                            "solidity": 0.2
                          }
                        },
                        "type": "histogram"
                      }
                    ],
                    "histogram2d": [
                      {
                        "colorbar": {
                          "outlinewidth": 0,
                          "ticks": ""
                        },
                        "colorscale": [
                          [
                            0,
                            "#0d0887"
                          ],
                          [
                            0.1111111111111111,
                            "#46039f"
                          ],
                          [
                            0.2222222222222222,
                            "#7201a8"
                          ],
                          [
                            0.3333333333333333,
                            "#9c179e"
                          ],
                          [
                            0.4444444444444444,
                            "#bd3786"
                          ],
                          [
                            0.5555555555555556,
                            "#d8576b"
                          ],
                          [
                            0.6666666666666666,
                            "#ed7953"
                          ],
                          [
                            0.7777777777777778,
                            "#fb9f3a"
                          ],
                          [
                            0.8888888888888888,
                            "#fdca26"
                          ],
                          [
                            1,
                            "#f0f921"
                          ]
                        ],
                        "type": "histogram2d"
                      }
                    ],
                    "histogram2dcontour": [
                      {
                        "colorbar": {
                          "outlinewidth": 0,
                          "ticks": ""
                        },
                        "colorscale": [
                          [
                            0,
                            "#0d0887"
                          ],
                          [
                            0.1111111111111111,
                            "#46039f"
                          ],
                          [
                            0.2222222222222222,
                            "#7201a8"
                          ],
                          [
                            0.3333333333333333,
                            "#9c179e"
                          ],
                          [
                            0.4444444444444444,
                            "#bd3786"
                          ],
                          [
                            0.5555555555555556,
                            "#d8576b"
                          ],
                          [
                            0.6666666666666666,
                            "#ed7953"
                          ],
                          [
                            0.7777777777777778,
                            "#fb9f3a"
                          ],
                          [
                            0.8888888888888888,
                            "#fdca26"
                          ],
                          [
                            1,
                            "#f0f921"
                          ]
                        ],
                        "type": "histogram2dcontour"
                      }
                    ],
                    "mesh3d": [
                      {
                        "colorbar": {
                          "outlinewidth": 0,
                          "ticks": ""
                        },
                        "type": "mesh3d"
                      }
                    ],
                    "parcoords": [
                      {
                        "line": {
                          "colorbar": {
                            "outlinewidth": 0,
                            "ticks": ""
                          }
                        },
                        "type": "parcoords"
                      }
                    ],
                    "pie": [
                      {
                        "automargin": true,
                        "type": "pie"
                      }
                    ],
                    "scatter": [
                      {
                        "fillpattern": {
                          "fillmode": "overlay",
                          "size": 10,
                          "solidity": 0.2
                        },
                        "type": "scatter"
                      }
                    ],
                    "scatter3d": [
                      {
                        "line": {
                          "colorbar": {
                            "outlinewidth": 0,
                            "ticks": ""
                          }
                        },
                        "marker": {
                          "colorbar": {
                            "outlinewidth": 0,
                            "ticks": ""
                          }
                        },
                        "type": "scatter3d"
                      }
                    ],
                    "scattercarpet": [
                      {
                        "marker": {
                          "colorbar": {
                            "outlinewidth": 0,
                            "ticks": ""
                          }
                        },
                        "type": "scattercarpet"
                      }
                    ],
                    "scattergeo": [
                      {
                        "marker": {
                          "colorbar": {
                            "outlinewidth": 0,
                            "ticks": ""
                          }
                        },
                        "type": "scattergeo"
                      }
                    ],
                    "scattergl": [
                      {
                        "marker": {
                          "colorbar": {
                            "outlinewidth": 0,
                            "ticks": ""
                          }
                        },
                        "type": "scattergl"
                      }
                    ],
                    "scattermapbox": [
                      {
                        "marker": {
                          "colorbar": {
                            "outlinewidth": 0,
                            "ticks": ""
                          }
                        },
                        "type": "scattermapbox"
                      }
                    ],
                    "scatterpolar": [
                      {
                        "marker": {
                          "colorbar": {
                            "outlinewidth": 0,
                            "ticks": ""
                          }
                        },
                        "type": "scatterpolar"
                      }
                    ],
                    "scatterpolargl": [
                      {
                        "marker": {
                          "colorbar": {
                            "outlinewidth": 0,
                            "ticks": ""
                          }
                        },
                        "type": "scatterpolargl"
                      }
                    ],
                    "scatterternary": [
                      {
                        "marker": {
                          "colorbar": {
                            "outlinewidth": 0,
                            "ticks": ""
                          }
                        },
                        "type": "scatterternary"
                      }
                    ],
                    "surface": [
                      {
                        "colorbar": {
                          "outlinewidth": 0,
                          "ticks": ""
                        },
                        "colorscale": [
                          [
                            0,
                            "#0d0887"
                          ],
                          [
                            0.1111111111111111,
                            "#46039f"
                          ],
                          [
                            0.2222222222222222,
                            "#7201a8"
                          ],
                          [
                            0.3333333333333333,
                            "#9c179e"
                          ],
                          [
                            0.4444444444444444,
                            "#bd3786"
                          ],
                          [
                            0.5555555555555556,
                            "#d8576b"
                          ],
                          [
                            0.6666666666666666,
                            "#ed7953"
                          ],
                          [
                            0.7777777777777778,
                            "#fb9f3a"
                          ],
                          [
                            0.8888888888888888,
                            "#fdca26"
                          ],
                          [
                            1,
                            "#f0f921"
                          ]
                        ],
                        "type": "surface"
                      }
                    ],
                    "table": [
                      {
                        "cells": {
                          "fill": {
                            "color": "#EBF0F8"
                          },
                          "line": {
                            "color": "white"
                          }
                        },
                        "header": {
                          "fill": {
                            "color": "#C8D4E3"
                          },
                          "line": {
                            "color": "white"
                          }
                        },
                        "type": "table"
                      }
                    ]
                  },
                  "layout": {
                    "annotationdefaults": {
                      "arrowcolor": "#2a3f5f",
                      "arrowhead": 0,
                      "arrowwidth": 1
                    },
                    "autotypenumbers": "strict",
                    "coloraxis": {
                      "colorbar": {
                        "outlinewidth": 0,
                        "ticks": ""
                      }
                    },
                    "colorscale": {
                      "diverging": [
                        [
                          0,
                          "#8e0152"
                        ],
                        [
                          0.1,
                          "#c51b7d"
                        ],
                        [
                          0.2,
                          "#de77ae"
                        ],
                        [
                          0.3,
                          "#f1b6da"
                        ],
                        [
                          0.4,
                          "#fde0ef"
                        ],
                        [
                          0.5,
                          "#f7f7f7"
                        ],
                        [
                          0.6,
                          "#e6f5d0"
                        ],
                        [
                          0.7,
                          "#b8e186"
                        ],
                        [
                          0.8,
                          "#7fbc41"
                        ],
                        [
                          0.9,
                          "#4d9221"
                        ],
                        [
                          1,
                          "#276419"
                        ]
                      ],
                      "sequential": [
                        [
                          0,
                          "#0d0887"
                        ],
                        [
                          0.1111111111111111,
                          "#46039f"
                        ],
                        [
                          0.2222222222222222,
                          "#7201a8"
                        ],
                        [
                          0.3333333333333333,
                          "#9c179e"
                        ],
                        [
                          0.4444444444444444,
                          "#bd3786"
                        ],
                        [
                          0.5555555555555556,
                          "#d8576b"
                        ],
                        [
                          0.6666666666666666,
                          "#ed7953"
                        ],
                        [
                          0.7777777777777778,
                          "#fb9f3a"
                        ],
                        [
                          0.8888888888888888,
                          "#fdca26"
                        ],
                        [
                          1,
                          "#f0f921"
                        ]
                      ],
                      "sequentialminus": [
                        [
                          0,
                          "#0d0887"
                        ],
                        [
                          0.1111111111111111,
                          "#46039f"
                        ],
                        [
                          0.2222222222222222,
                          "#7201a8"
                        ],
                        [
                          0.3333333333333333,
                          "#9c179e"
                        ],
                        [
                          0.4444444444444444,
                          "#bd3786"
                        ],
                        [
                          0.5555555555555556,
                          "#d8576b"
                        ],
                        [
                          0.6666666666666666,
                          "#ed7953"
                        ],
                        [
                          0.7777777777777778,
                          "#fb9f3a"
                        ],
                        [
                          0.8888888888888888,
                          "#fdca26"
                        ],
                        [
                          1,
                          "#f0f921"
                        ]
                      ]
                    },
                    "colorway": [
                      "#636efa",
                      "#EF553B",
                      "#00cc96",
                      "#ab63fa",
                      "#FFA15A",
                      "#19d3f3",
                      "#FF6692",
                      "#B6E880",
                      "#FF97FF",
                      "#FECB52"
                    ],
                    "font": {
                      "color": "#2a3f5f"
                    },
                    "geo": {
                      "bgcolor": "white",
                      "lakecolor": "white",
                      "landcolor": "#E5ECF6",
                      "showlakes": true,
                      "showland": true,
                      "subunitcolor": "white"
                    },
                    "hoverlabel": {
                      "align": "left"
                    },
                    "hovermode": "closest",
                    "mapbox": {
                      "style": "light"
                    },
                    "paper_bgcolor": "white",
                    "plot_bgcolor": "#E5ECF6",
                    "polar": {
                      "angularaxis": {
                        "gridcolor": "white",
                        "linecolor": "white",
                        "ticks": ""
                      },
                      "bgcolor": "#E5ECF6",
                      "radialaxis": {
                        "gridcolor": "white",
                        "linecolor": "white",
                        "ticks": ""
                      }
                    },
                    "scene": {
                      "xaxis": {
                        "backgroundcolor": "#E5ECF6",
                        "gridcolor": "white",
                        "gridwidth": 2,
                        "linecolor": "white",
                        "showbackground": true,
                        "ticks": "",
                        "zerolinecolor": "white"
                      },
                      "yaxis": {
                        "backgroundcolor": "#E5ECF6",
                        "gridcolor": "white",
                        "gridwidth": 2,
                        "linecolor": "white",
                        "showbackground": true,
                        "ticks": "",
                        "zerolinecolor": "white"
                      },
                      "zaxis": {
                        "backgroundcolor": "#E5ECF6",
                        "gridcolor": "white",
                        "gridwidth": 2,
                        "linecolor": "white",
                        "showbackground": true,
                        "ticks": "",
                        "zerolinecolor": "white"
                      }
                    },
                    "shapedefaults": {
                      "line": {
                        "color": "#2a3f5f"
                      }
                    },
                    "ternary": {
                      "aaxis": {
                        "gridcolor": "white",
                        "linecolor": "white",
                        "ticks": ""
                      },
                      "baxis": {
                        "gridcolor": "white",
                        "linecolor": "white",
                        "ticks": ""
                      },
                      "bgcolor": "#E5ECF6",
                      "caxis": {
                        "gridcolor": "white",
                        "linecolor": "white",
                        "ticks": ""
                      }
                    },
                    "title": {
                      "x": 0.05
                    },
                    "xaxis": {
                      "automargin": true,
                      "gridcolor": "white",
                      "linecolor": "white",
                      "ticks": "",
                      "title": {
                        "standoff": 15
                      },
                      "zerolinecolor": "white",
                      "zerolinewidth": 2
                    },
                    "yaxis": {
                      "automargin": true,
                      "gridcolor": "white",
                      "linecolor": "white",
                      "ticks": "",
                      "title": {
                        "standoff": 15
                      },
                      "zerolinecolor": "white",
                      "zerolinewidth": 2
                    }
                  }
                },
                "title": {
                  "text": "Attrition Percentage by Age Group, Income Level, and Education Level"
                }
              }
            }
          },
          "metadata": {},
          "output_type": "display_data"
        }
      ],
      "source": [
        "#create a sunburst chart to show the percentage of attrited customers in each of the following categories: Age_Group, Income_Category, Education_Level\n",
        "fig = px.sunburst(attrition_summary, path=['Age_Group', 'Income_Category', 'Education_Level'], values='Attrition_Percentage', title='Attrition Percentage by Age Group, Income Level, and Education Level')\n",
        "fig.update_traces(textinfo='label+percent entry')\n",
        "fig.show()"
      ]
    },
    {
      "cell_type": "markdown",
      "metadata": {
        "id": "ZY3l0-AxO93d"
      },
      "source": [
        "---"
      ]
    },
    {
      "cell_type": "markdown",
      "metadata": {
        "id": "uFQo3ycuO-v6"
      },
      "source": [
        "# Section 2"
      ]
    },
    {
      "cell_type": "markdown",
      "metadata": {},
      "source": [
        "Section 2 content"
      ]
    },
    {
      "cell_type": "code",
      "execution_count": null,
      "metadata": {},
      "outputs": [],
      "source": []
    },
    {
      "cell_type": "markdown",
      "metadata": {},
      "source": [
        "---"
      ]
    },
    {
      "cell_type": "markdown",
      "metadata": {},
      "source": [
        "NOTE"
      ]
    },
    {
      "cell_type": "markdown",
      "metadata": {},
      "source": [
        "* You may add as many sections as you want, as long as it supports your project workflow.\n",
        "* All notebook's cells should be run top-down (you can't create a dynamic wherein a given point you need to go back to a previous cell to execute some task, like go back to a previous cell and refresh a variable content)"
      ]
    },
    {
      "cell_type": "markdown",
      "metadata": {},
      "source": [
        "---"
      ]
    },
    {
      "cell_type": "markdown",
      "metadata": {
        "id": "ltNetd085qHf"
      },
      "source": [
        "# Push files to Repo"
      ]
    },
    {
      "cell_type": "markdown",
      "metadata": {},
      "source": [
        "* In cases where you don't need to push files to Repo, you may replace this section with \"Conclusions and Next Steps\" and state your conclusions and next steps."
      ]
    },
    {
      "cell_type": "code",
      "execution_count": null,
      "metadata": {
        "id": "aKlnIozA4eQO",
        "outputId": "fd09bc1f-adb1-4511-f6ce-492a6af570c0"
      },
      "outputs": [],
      "source": [
        "# import os\n",
        "# try:\n",
        "#   # create your folder here\n",
        "#   # os.makedirs(name='')\n",
        "# except Exception as e:\n",
        "#   print(e)\n"
      ]
    }
  ],
  "metadata": {
    "accelerator": "GPU",
    "colab": {
      "name": "Data Practitioner Jupyter Notebook.ipynb",
      "provenance": [],
      "toc_visible": true
    },
    "kernelspec": {
      "display_name": ".venv (3.12.8)",
      "language": "python",
      "name": "python3"
    },
    "language_info": {
      "codemirror_mode": {
        "name": "ipython",
        "version": 3
      },
      "file_extension": ".py",
      "mimetype": "text/x-python",
      "name": "python",
      "nbconvert_exporter": "python",
      "pygments_lexer": "ipython3",
      "version": "3.12.8"
    },
    "orig_nbformat": 2
  },
  "nbformat": 4,
  "nbformat_minor": 2
}
